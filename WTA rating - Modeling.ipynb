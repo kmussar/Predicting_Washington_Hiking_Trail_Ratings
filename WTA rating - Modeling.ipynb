{
 "cells": [
  {
   "cell_type": "code",
   "execution_count": 1,
   "metadata": {},
   "outputs": [],
   "source": [
    "import numpy as np\n",
    "import pandas as pd\n",
    "import pickle\n",
    "import matplotlib.pyplot as plt\n",
    "import seaborn as sns\n",
    "from sklearn.linear_model import LinearRegression, Ridge\n",
    "from sklearn import metrics\n",
    "from sklearn.metrics import mean_squared_error\n",
    "from sklearn.model_selection import train_test_split\n",
    "from sklearn.preprocessing import StandardScaler, PolynomialFeatures\n",
    "from sklearn.pipeline import make_pipeline\n",
    "from sklearn.model_selection import KFold\n",
    "from sklearn.model_selection import cross_val_score, cross_val_predict\n",
    "import scipy.stats as stats"
   ]
  },
  {
   "cell_type": "code",
   "execution_count": 2,
   "metadata": {},
   "outputs": [],
   "source": [
    "with open('all_data_filtered_day_hikes_subset_features.pickle','rb') as read_file:\n",
    "   hikes_data = pickle.load(read_file)\n",
    "\n",
    "df = pd.DataFrame(hikes_data)"
   ]
  },
  {
   "cell_type": "code",
   "execution_count": 3,
   "metadata": {},
   "outputs": [],
   "source": [
    "with open('all_data_filtered_day_hikes2.pickle','rb') as read_file:\n",
    "   hikes_data = pickle.load(read_file)\n",
    "\n",
    "df2 = pd.DataFrame(hikes_data)\n"
   ]
  },
  {
   "cell_type": "code",
   "execution_count": 19,
   "metadata": {
    "collapsed": true
   },
   "outputs": [
    {
     "name": "stdout",
     "output_type": "stream",
     "text": [
      "<class 'pandas.core.frame.DataFrame'>\n",
      "Int64Index: 1853 entries, 0 to 2495\n",
      "Data columns (total 50 columns):\n",
      "Coast                                      1853 non-null float64\n",
      "Dogs allowed on leash                      1853 non-null float64\n",
      "Dogs not allowed                           1853 non-null float64\n",
      "Established campsites                      1853 non-null float64\n",
      "Fall foliage                               1853 non-null float64\n",
      "Good for kids                              1853 non-null float64\n",
      "Lakes                                      1853 non-null float64\n",
      "Mountain views                             1853 non-null float64\n",
      "Old growth                                 1853 non-null float64\n",
      "Ridges/passes                              1853 non-null float64\n",
      "Rivers                                     1853 non-null float64\n",
      "Summits                                    1853 non-null float64\n",
      "Waterfalls                                 1853 non-null float64\n",
      "Wildflowers/Meadows                        1853 non-null float64\n",
      "Wildlife                                   1853 non-null float64\n",
      "distance_how                               1853 non-null object\n",
      "distance_mi                                1853 non-null float64\n",
      "gain                                       1853 non-null float64\n",
      "highest_pt                                 1853 non-null float64\n",
      "lat                                        1853 non-null float64\n",
      "long                                       1853 non-null float64\n",
      "num_reports                                1853 non-null float64\n",
      "permit                                     1853 non-null object\n",
      "rating                                     1853 non-null float64\n",
      "rating_count                               1853 non-null int64\n",
      "region                                     1853 non-null object\n",
      "trail_name                                 1853 non-null object\n",
      "subregion                                  1853 non-null object\n",
      "Central Cascades                           1853 non-null uint8\n",
      "Central Washington                         1853 non-null uint8\n",
      "Eastern Washington                         1853 non-null uint8\n",
      "Issaquah Alps                              1853 non-null uint8\n",
      "Mount Rainier Area                         1853 non-null uint8\n",
      "North Cascades                             1853 non-null uint8\n",
      "Olympic Peninsula                          1853 non-null uint8\n",
      "Puget Sound and Islands                    1853 non-null uint8\n",
      "Snoqualmie Region                          1853 non-null uint8\n",
      "South Cascades                             1853 non-null uint8\n",
      "Southwest Washington                       1853 non-null uint8\n",
      "Discover Pass, Sno-Parks Permit            1853 non-null uint8\n",
      "National Monument Fee                      1853 non-null uint8\n",
      "National Monument Fee, Sno-Parks Permit    1853 non-null uint8\n",
      "National Park Pass                         1853 non-null uint8\n",
      "None                                       1853 non-null uint8\n",
      "Northwest Forest Pass                      1853 non-null uint8\n",
      "Northwest Forest Pass, Sno-Parks Permit    1853 non-null uint8\n",
      "Oregon State Parks Day-Use                 1853 non-null uint8\n",
      "Refuge Entrance Pass                       1853 non-null uint8\n",
      "Sno-Parks Permit                           1853 non-null uint8\n",
      "num_features                               1853 non-null float64\n",
      "dtypes: float64(23), int64(1), object(5), uint8(21)\n",
      "memory usage: 472.3+ KB\n"
     ]
    }
   ],
   "source": [
    "df2.info()"
   ]
  },
  {
   "cell_type": "markdown",
   "metadata": {},
   "source": [
    "# Very Basic Model"
   ]
  },
  {
   "cell_type": "code",
   "execution_count": 4,
   "metadata": {},
   "outputs": [],
   "source": [
    "X = df2.drop(columns=['rating','distance_how','permit','region','subregion','trail_name'],axis=1)\n",
    "y = df2['rating']"
   ]
  },
  {
   "cell_type": "code",
   "execution_count": 5,
   "metadata": {},
   "outputs": [
    {
     "name": "stdout",
     "output_type": "stream",
     "text": [
      "MAE: 0.6339505237474126\n",
      "MSE: 0.649378060241125\n",
      "RMSE: 0.8058399718561527\n",
      "R^2: 0.0712773672643422\n"
     ]
    }
   ],
   "source": [
    "# hold out 20% of the data for final testing\n",
    "X, X_test, y, y_test = train_test_split(X, y, test_size=.2, random_state=10)\n",
    "\n",
    "X_train, X_val, y_train, y_val = train_test_split(X, y, test_size=.25, random_state=3)\n",
    "lr = LinearRegression()\n",
    "lr.fit(X_train, y_train)\n",
    "predictions = lr.predict(X_val)\n",
    "\n",
    "print('MAE:', metrics.mean_absolute_error(y_val, predictions))\n",
    "print('MSE:', metrics.mean_squared_error(y_val, predictions))\n",
    "print('RMSE:', np.sqrt(metrics.mean_squared_error(y_val, predictions)))\n",
    "print('R^2:', metrics.explained_variance_score(y_val,predictions))"
   ]
  },
  {
   "cell_type": "markdown",
   "metadata": {},
   "source": [
    "## interupt to test dataset predictions from larger data set (highest elevation NaN included). Also more features. "
   ]
  },
  {
   "cell_type": "code",
   "execution_count": 62,
   "metadata": {
    "collapsed": true
   },
   "outputs": [
    {
     "name": "stdout",
     "output_type": "stream",
     "text": [
      "<class 'pandas.core.frame.DataFrame'>\n",
      "Int64Index: 1853 entries, 0 to 2495\n",
      "Data columns (total 50 columns):\n",
      "Coast                                      1853 non-null float64\n",
      "Dogs allowed on leash                      1853 non-null float64\n",
      "Dogs not allowed                           1853 non-null float64\n",
      "Established campsites                      1853 non-null float64\n",
      "Fall foliage                               1853 non-null float64\n",
      "Good for kids                              1853 non-null float64\n",
      "Lakes                                      1853 non-null float64\n",
      "Mountain views                             1853 non-null float64\n",
      "Old growth                                 1853 non-null float64\n",
      "Ridges/passes                              1853 non-null float64\n",
      "Rivers                                     1853 non-null float64\n",
      "Summits                                    1853 non-null float64\n",
      "Waterfalls                                 1853 non-null float64\n",
      "Wildflowers/Meadows                        1853 non-null float64\n",
      "Wildlife                                   1853 non-null float64\n",
      "distance_how                               1853 non-null object\n",
      "distance_mi                                1853 non-null float64\n",
      "gain                                       1853 non-null float64\n",
      "highest_pt                                 1853 non-null float64\n",
      "lat                                        1853 non-null float64\n",
      "long                                       1853 non-null float64\n",
      "num_reports                                1853 non-null float64\n",
      "permit                                     1853 non-null object\n",
      "rating                                     1853 non-null float64\n",
      "rating_count                               1853 non-null int64\n",
      "region                                     1853 non-null object\n",
      "trail_name                                 1853 non-null object\n",
      "subregion                                  1853 non-null object\n",
      "Central Cascades                           1853 non-null uint8\n",
      "Central Washington                         1853 non-null uint8\n",
      "Eastern Washington                         1853 non-null uint8\n",
      "Issaquah Alps                              1853 non-null uint8\n",
      "Mount Rainier Area                         1853 non-null uint8\n",
      "North Cascades                             1853 non-null uint8\n",
      "Olympic Peninsula                          1853 non-null uint8\n",
      "Puget Sound and Islands                    1853 non-null uint8\n",
      "Snoqualmie Region                          1853 non-null uint8\n",
      "South Cascades                             1853 non-null uint8\n",
      "Southwest Washington                       1853 non-null uint8\n",
      "Discover Pass, Sno-Parks Permit            1853 non-null uint8\n",
      "National Monument Fee                      1853 non-null uint8\n",
      "National Monument Fee, Sno-Parks Permit    1853 non-null uint8\n",
      "National Park Pass                         1853 non-null uint8\n",
      "None                                       1853 non-null uint8\n",
      "Northwest Forest Pass                      1853 non-null uint8\n",
      "Northwest Forest Pass, Sno-Parks Permit    1853 non-null uint8\n",
      "Oregon State Parks Day-Use                 1853 non-null uint8\n",
      "Refuge Entrance Pass                       1853 non-null uint8\n",
      "Sno-Parks Permit                           1853 non-null uint8\n",
      "num_features                               1853 non-null float64\n",
      "dtypes: float64(23), int64(1), object(5), uint8(21)\n",
      "memory usage: 472.3+ KB\n"
     ]
    }
   ],
   "source": [
    "df2.info()"
   ]
  },
  {
   "cell_type": "code",
   "execution_count": 6,
   "metadata": {},
   "outputs": [],
   "source": [
    "Xm = df2.drop(columns=['rating','distance_how','permit','region','subregion','trail_name'],axis=1)\n",
    "ym = df2['rating']"
   ]
  },
  {
   "cell_type": "code",
   "execution_count": 7,
   "metadata": {},
   "outputs": [
    {
     "name": "stdout",
     "output_type": "stream",
     "text": [
      "MAE: 0.6339505237474126\n",
      "MSE: 0.649378060241125\n",
      "RMSE: 0.8058399718561527\n",
      "R^2: 0.0712773672643422\n"
     ]
    }
   ],
   "source": [
    "Xm, Xm_test, ym, ym_test = train_test_split(Xm, ym, test_size=.2, random_state=10)\n",
    "\n",
    "Xm_train, Xm_val, ym_train, ym_val = train_test_split(Xm, ym, test_size=.25, random_state=3)\n",
    "lr_m = LinearRegression()\n",
    "lr_m.fit(Xm_train, ym_train)\n",
    "predictions_m = lr_m.predict(Xm_val)\n",
    "\n",
    "print('MAE:', metrics.mean_absolute_error(ym_val, predictions_m))\n",
    "print('MSE:', metrics.mean_squared_error(ym_val, predictions_m))\n",
    "print('RMSE:', np.sqrt(metrics.mean_squared_error(ym_val, predictions_m)))\n",
    "print('R^2:', metrics.explained_variance_score(ym_val,predictions_m))"
   ]
  },
  {
   "cell_type": "markdown",
   "metadata": {},
   "source": [
    "## That's actually better - switch to df2 \n",
    "\n",
    "df 's results were: \n",
    "* MAE: 0.5646874057694029\n",
    "* MSE: 0.5426558391350723\n",
    "* RMSE: 0.7366517760346962\n",
    "* R^2: 0.03083189489837035\n"
   ]
  },
  {
   "cell_type": "code",
   "execution_count": 8,
   "metadata": {},
   "outputs": [],
   "source": [
    "residuals = y_val - predictions"
   ]
  },
  {
   "cell_type": "code",
   "execution_count": 9,
   "metadata": {
    "scrolled": true
   },
   "outputs": [
    {
     "data": {
      "text/html": [
       "<div>\n",
       "<style scoped>\n",
       "    .dataframe tbody tr th:only-of-type {\n",
       "        vertical-align: middle;\n",
       "    }\n",
       "\n",
       "    .dataframe tbody tr th {\n",
       "        vertical-align: top;\n",
       "    }\n",
       "\n",
       "    .dataframe thead th {\n",
       "        text-align: right;\n",
       "    }\n",
       "</style>\n",
       "<table border=\"1\" class=\"dataframe\">\n",
       "  <thead>\n",
       "    <tr style=\"text-align: right;\">\n",
       "      <th></th>\n",
       "      <th>residuals</th>\n",
       "      <th>predictions</th>\n",
       "      <th>y_val</th>\n",
       "    </tr>\n",
       "  </thead>\n",
       "  <tbody>\n",
       "    <tr>\n",
       "      <th>1501</th>\n",
       "      <td>0.823220</td>\n",
       "      <td>3.176780</td>\n",
       "      <td>4.0</td>\n",
       "    </tr>\n",
       "    <tr>\n",
       "      <th>3169</th>\n",
       "      <td>0.047351</td>\n",
       "      <td>2.952649</td>\n",
       "      <td>3.0</td>\n",
       "    </tr>\n",
       "    <tr>\n",
       "      <th>3108</th>\n",
       "      <td>1.304896</td>\n",
       "      <td>2.995104</td>\n",
       "      <td>4.3</td>\n",
       "    </tr>\n",
       "    <tr>\n",
       "      <th>2885</th>\n",
       "      <td>-0.014316</td>\n",
       "      <td>3.014316</td>\n",
       "      <td>3.0</td>\n",
       "    </tr>\n",
       "    <tr>\n",
       "      <th>1452</th>\n",
       "      <td>0.334440</td>\n",
       "      <td>3.565560</td>\n",
       "      <td>3.9</td>\n",
       "    </tr>\n",
       "  </tbody>\n",
       "</table>\n",
       "</div>"
      ],
      "text/plain": [
       "      residuals  predictions  y_val\n",
       "1501   0.823220     3.176780    4.0\n",
       "3169   0.047351     2.952649    3.0\n",
       "3108   1.304896     2.995104    4.3\n",
       "2885  -0.014316     3.014316    3.0\n",
       "1452   0.334440     3.565560    3.9"
      ]
     },
     "execution_count": 9,
     "metadata": {},
     "output_type": "execute_result"
    }
   ],
   "source": [
    "results_df = pd.DataFrame()\n",
    "results_df['residuals'] = residuals\n",
    "results_df['predictions'] = predictions\n",
    "results_df['y_val'] = y_val\n",
    "results_df.head()"
   ]
  },
  {
   "cell_type": "code",
   "execution_count": 10,
   "metadata": {},
   "outputs": [
    {
     "data": {
      "text/plain": [
       "<Figure size 720x360 with 0 Axes>"
      ]
     },
     "metadata": {},
     "output_type": "display_data"
    }
   ],
   "source": [
    "plt.figure(figsize=(10,5))\n",
    "sns.set_style(\"white\")\n",
    "sns.set_context(\"poster\")"
   ]
  },
  {
   "cell_type": "code",
   "execution_count": 12,
   "metadata": {
    "scrolled": true
   },
   "outputs": [],
   "source": [
    "#results_df.plot(x='y_val',y='predictions',kind='scatter',scatter_kws={\"marker\":\"D\",\"s\": 10})"
   ]
  },
  {
   "cell_type": "code",
   "execution_count": 13,
   "metadata": {
    "scrolled": true
   },
   "outputs": [
    {
     "name": "stdout",
     "output_type": "stream",
     "text": [
      "Residual plot\n"
     ]
    },
    {
     "data": {
      "text/plain": [
       "<Figure size 720x360 with 0 Axes>"
      ]
     },
     "metadata": {},
     "output_type": "display_data"
    },
    {
     "data": {
      "image/png": "[encoded data removed]",
      "text/plain": [
       "<Figure size 360x360 with 1 Axes>"
      ]
     },
     "metadata": {},
     "output_type": "display_data"
    }
   ],
   "source": [
    "print(\"Residual plot\")\n",
    "plt.figure(figsize=(10,5))\n",
    "sns.lmplot(y='residuals',x='predictions',data=results_df,scatter_kws={\"marker\":\"D\",\"s\": 10},fit_reg=False)\n",
    "#results_df.plot(x='predictions',y='residuals',kind='scatter',scatter_kws={\"marker\":\"D\",\"s\": 10})\n",
    "plt.savefig('residuals vs predictions.png',dpi=300,transparent=True)"
   ]
  },
  {
   "cell_type": "markdown",
   "metadata": {},
   "source": [
    "**Residuals are a straight line, but heteroskedastic**\n",
    "\n",
    "Q-Q plot matches normal decently well. None of the others seem to match (light tailed, left skew, bimodal, heavy-tailed, right skew)"
   ]
  },
  {
   "cell_type": "code",
   "execution_count": 14,
   "metadata": {},
   "outputs": [
    {
     "data": {
      "image/png": "[encoded data removed]",
      "text/plain": [
       "<Figure size 432x288 with 1 Axes>"
      ]
     },
     "metadata": {},
     "output_type": "display_data"
    }
   ],
   "source": [
    "# Q-Q plot\n",
    "stats.probplot(residuals, dist=\"norm\", plot=plt)\n",
    "plt.title(\"Normal Q-Q plot\")\n",
    "plt.savefig('QQ_plot.png',dpi=300,transparent=True)"
   ]
  },
  {
   "cell_type": "code",
   "execution_count": 15,
   "metadata": {
    "collapsed": true
   },
   "outputs": [
    {
     "name": "stdout",
     "output_type": "stream",
     "text": [
      "<class 'pandas.core.frame.DataFrame'>\n",
      "Int64Index: 1699 entries, 0 to 1778\n",
      "Data columns (total 24 columns):\n",
      "Established campsites    1137 non-null float64\n",
      "Issaquah Alps            1137 non-null float64\n",
      "Mount Rainier Area       1137 non-null float64\n",
      "Mountain views           1137 non-null float64\n",
      "National Park Pass       1137 non-null float64\n",
      "North Cascades           1137 non-null float64\n",
      "Northwest Forest Pass    1137 non-null float64\n",
      "Ridges/passes            1137 non-null float64\n",
      "Sno-Parks Permit         1137 non-null float64\n",
      "Snoqualmie Region        1137 non-null float64\n",
      "Summits                  1137 non-null float64\n",
      "Waterfalls               1137 non-null float64\n",
      "Wildflowers/Meadows      1137 non-null float64\n",
      "distance_mi              1137 non-null float64\n",
      "highest_pt               1137 non-null float64\n",
      "lat                      1137 non-null float64\n",
      "long                     1137 non-null float64\n",
      "num_features             1137 non-null float64\n",
      "num_reports              1137 non-null float64\n",
      "predictions              562 non-null float64\n",
      "rating                   1137 non-null float64\n",
      "rating_count             1137 non-null float64\n",
      "residuals                562 non-null float64\n",
      "y_val                    562 non-null float64\n",
      "dtypes: float64(24)\n",
      "memory usage: 331.8 KB\n"
     ]
    },
    {
     "name": "stderr",
     "output_type": "stream",
     "text": [
      "/home/kmussar/anaconda3/lib/python3.7/site-packages/ipykernel_launcher.py:1: FutureWarning: Sorting because non-concatenation axis is not aligned. A future version\n",
      "of pandas will change to not sort by default.\n",
      "\n",
      "To accept the future behavior, pass 'sort=False'.\n",
      "\n",
      "To retain the current behavior and silence the warning, pass 'sort=True'.\n",
      "\n",
      "  \"\"\"Entry point for launching an IPython kernel.\n"
     ]
    }
   ],
   "source": [
    "df3 = pd.concat([df,results_df])\n",
    "df3.info()"
   ]
  },
  {
   "cell_type": "markdown",
   "metadata": {},
   "source": [
    "## Learning Curves"
   ]
  },
  {
   "cell_type": "code",
   "execution_count": 72,
   "metadata": {},
   "outputs": [
    {
     "data": {
      "image/png": "[encoded data removed]",
      "text/plain": [
       "<Figure size 432x288 with 1 Axes>"
      ]
     },
     "metadata": {},
     "output_type": "display_data"
    }
   ],
   "source": [
    "# Using X_train, X_val, y_train, y_val from above when initially split \n",
    "train_errors, val_errors = [], []\n",
    "for m in range(1,len(X_train)): \n",
    "    # used lr as model\n",
    "    model = lr\n",
    "    model.fit(X_train[:m],y_train[:m])\n",
    "    y_train_predict = model.predict(X_train[:m])\n",
    "    y_val_predict = model.predict(X_val)\n",
    "    train_errors.append(mean_squared_error(y_train_predict,y_train[:m]))\n",
    "    val_errors.append(mean_squared_error(y_val_predict,y_val))\n",
    "plt.plot(np.sqrt(train_errors),'r-+',linewidth=2,label='train',c='r')\n",
    "plt.plot(np.sqrt(val_errors),'r-+',linewidth=2,label='val',c='b')\n",
    "plt.title('Learning Curve')\n",
    "plt.xscale('log')\n",
    "plt.yscale('log')\n",
    "plt.savefig('learning_curve.png',dpi=300,transparent=True)"
   ]
  },
  {
   "cell_type": "markdown",
   "metadata": {},
   "source": [
    "# Cross-Validation  (k-folds)"
   ]
  },
  {
   "cell_type": "markdown",
   "metadata": {},
   "source": [
    "### Basic Model"
   ]
  },
  {
   "cell_type": "code",
   "execution_count": 16,
   "metadata": {},
   "outputs": [
    {
     "name": "stdout",
     "output_type": "stream",
     "text": [
      "(2247,)\n",
      "(2247,)\n",
      "(2247,)\n",
      "(2247,)\n",
      "(2247,)\n",
      "[0.02371508 0.14513431 0.07418677 0.01540231 0.11237086]\n",
      "0.07416186331129751\n"
     ]
    }
   ],
   "source": [
    "kf = KFold(n_splits=5, shuffle=True, random_state = 100)\n",
    "\n",
    "# set up model\n",
    "cv_lr = LinearRegression()\n",
    "\n",
    "all_predicts = np.empty(909,)\n",
    "for i in range(5):\n",
    "    cv_predictions = cross_val_predict(cv_lr, X, y,cv=kf)\n",
    "    print(cv_predictions.shape)\n",
    "    np.concatenate((all_predicts, cv_predictions), axis=0)\n",
    "\n",
    "#X and y here are what was used to split into train and validate above. \n",
    "print(cross_val_score(cv_lr, X, y, cv=kf, scoring='r2'))\n",
    "print(np.mean(cross_val_score(cv_lr, X, y, cv=kf, scoring='r2')))"
   ]
  },
  {
   "cell_type": "markdown",
   "metadata": {},
   "source": [
    "**This is about the same as without using cross-validation which is to be expected**"
   ]
  },
  {
   "cell_type": "code",
   "execution_count": 17,
   "metadata": {},
   "outputs": [
    {
     "data": {
      "text/html": [
       "<div>\n",
       "<style scoped>\n",
       "    .dataframe tbody tr th:only-of-type {\n",
       "        vertical-align: middle;\n",
       "    }\n",
       "\n",
       "    .dataframe tbody tr th {\n",
       "        vertical-align: top;\n",
       "    }\n",
       "\n",
       "    .dataframe thead th {\n",
       "        text-align: right;\n",
       "    }\n",
       "</style>\n",
       "<table border=\"1\" class=\"dataframe\">\n",
       "  <thead>\n",
       "    <tr style=\"text-align: right;\">\n",
       "      <th></th>\n",
       "      <th>predictions</th>\n",
       "      <th>residuals</th>\n",
       "    </tr>\n",
       "  </thead>\n",
       "  <tbody>\n",
       "    <tr>\n",
       "      <th>3565</th>\n",
       "      <td>2.915941</td>\n",
       "      <td>0.584059</td>\n",
       "    </tr>\n",
       "    <tr>\n",
       "      <th>1479</th>\n",
       "      <td>3.380710</td>\n",
       "      <td>0.619290</td>\n",
       "    </tr>\n",
       "    <tr>\n",
       "      <th>1614</th>\n",
       "      <td>3.242685</td>\n",
       "      <td>-1.042685</td>\n",
       "    </tr>\n",
       "    <tr>\n",
       "      <th>1201</th>\n",
       "      <td>3.157455</td>\n",
       "      <td>0.842545</td>\n",
       "    </tr>\n",
       "    <tr>\n",
       "      <th>3410</th>\n",
       "      <td>2.975129</td>\n",
       "      <td>2.024871</td>\n",
       "    </tr>\n",
       "  </tbody>\n",
       "</table>\n",
       "</div>"
      ],
      "text/plain": [
       "      predictions  residuals\n",
       "3565     2.915941   0.584059\n",
       "1479     3.380710   0.619290\n",
       "1614     3.242685  -1.042685\n",
       "1201     3.157455   0.842545\n",
       "3410     2.975129   2.024871"
      ]
     },
     "execution_count": 17,
     "metadata": {},
     "output_type": "execute_result"
    }
   ],
   "source": [
    "cv_residuals = y-cv_predictions\n",
    "cv_results_df = pd.DataFrame({'predictions':cv_predictions,'residuals':cv_residuals})\n",
    "cv_results_df.head()\n",
    "#cv_results_df.info()"
   ]
  },
  {
   "cell_type": "code",
   "execution_count": 18,
   "metadata": {
    "collapsed": true
   },
   "outputs": [
    {
     "data": {
      "text/html": [
       "<div>\n",
       "<style scoped>\n",
       "    .dataframe tbody tr th:only-of-type {\n",
       "        vertical-align: middle;\n",
       "    }\n",
       "\n",
       "    .dataframe tbody tr th {\n",
       "        vertical-align: top;\n",
       "    }\n",
       "\n",
       "    .dataframe thead th {\n",
       "        text-align: right;\n",
       "    }\n",
       "</style>\n",
       "<table border=\"1\" class=\"dataframe\">\n",
       "  <thead>\n",
       "    <tr style=\"text-align: right;\">\n",
       "      <th></th>\n",
       "      <th>Unnamed: 0</th>\n",
       "      <th>Coast</th>\n",
       "      <th>Dogs allowed on leash</th>\n",
       "      <th>Dogs not allowed</th>\n",
       "      <th>Established campsites</th>\n",
       "      <th>Fall foliage</th>\n",
       "      <th>Good for kids</th>\n",
       "      <th>Lakes</th>\n",
       "      <th>Mountain views</th>\n",
       "      <th>Old growth</th>\n",
       "      <th>...</th>\n",
       "      <th>National Park Pass, Northwest Forest Pass</th>\n",
       "      <th>None</th>\n",
       "      <th>None, Northwest Forest Pass</th>\n",
       "      <th>Northwest Forest Pass</th>\n",
       "      <th>Northwest Forest Pass, Sno-Parks Permit</th>\n",
       "      <th>Oregon State Parks Day-Use</th>\n",
       "      <th>Refuge Entrance Pass</th>\n",
       "      <th>Sno-Parks Permit</th>\n",
       "      <th>num_features</th>\n",
       "      <th>rating</th>\n",
       "    </tr>\n",
       "  </thead>\n",
       "  <tbody>\n",
       "    <tr>\n",
       "      <th>3565</th>\n",
       "      <td>3565</td>\n",
       "      <td>0.0</td>\n",
       "      <td>0.0</td>\n",
       "      <td>0.0</td>\n",
       "      <td>0.0</td>\n",
       "      <td>0.0</td>\n",
       "      <td>0.0</td>\n",
       "      <td>0.0</td>\n",
       "      <td>0.0</td>\n",
       "      <td>1.0</td>\n",
       "      <td>...</td>\n",
       "      <td>0</td>\n",
       "      <td>1</td>\n",
       "      <td>0</td>\n",
       "      <td>0</td>\n",
       "      <td>0</td>\n",
       "      <td>0</td>\n",
       "      <td>0</td>\n",
       "      <td>0</td>\n",
       "      <td>2.0</td>\n",
       "      <td>3.5</td>\n",
       "    </tr>\n",
       "    <tr>\n",
       "      <th>1479</th>\n",
       "      <td>1479</td>\n",
       "      <td>0.0</td>\n",
       "      <td>0.0</td>\n",
       "      <td>1.0</td>\n",
       "      <td>0.0</td>\n",
       "      <td>0.0</td>\n",
       "      <td>1.0</td>\n",
       "      <td>1.0</td>\n",
       "      <td>0.0</td>\n",
       "      <td>0.0</td>\n",
       "      <td>...</td>\n",
       "      <td>0</td>\n",
       "      <td>1</td>\n",
       "      <td>0</td>\n",
       "      <td>0</td>\n",
       "      <td>0</td>\n",
       "      <td>0</td>\n",
       "      <td>0</td>\n",
       "      <td>0</td>\n",
       "      <td>6.0</td>\n",
       "      <td>4.0</td>\n",
       "    </tr>\n",
       "    <tr>\n",
       "      <th>1614</th>\n",
       "      <td>1614</td>\n",
       "      <td>0.0</td>\n",
       "      <td>0.0</td>\n",
       "      <td>1.0</td>\n",
       "      <td>1.0</td>\n",
       "      <td>1.0</td>\n",
       "      <td>0.0</td>\n",
       "      <td>0.0</td>\n",
       "      <td>1.0</td>\n",
       "      <td>0.0</td>\n",
       "      <td>...</td>\n",
       "      <td>0</td>\n",
       "      <td>0</td>\n",
       "      <td>0</td>\n",
       "      <td>1</td>\n",
       "      <td>0</td>\n",
       "      <td>0</td>\n",
       "      <td>0</td>\n",
       "      <td>0</td>\n",
       "      <td>7.0</td>\n",
       "      <td>2.2</td>\n",
       "    </tr>\n",
       "    <tr>\n",
       "      <th>1201</th>\n",
       "      <td>1201</td>\n",
       "      <td>0.0</td>\n",
       "      <td>1.0</td>\n",
       "      <td>0.0</td>\n",
       "      <td>0.0</td>\n",
       "      <td>1.0</td>\n",
       "      <td>1.0</td>\n",
       "      <td>0.0</td>\n",
       "      <td>0.0</td>\n",
       "      <td>0.0</td>\n",
       "      <td>...</td>\n",
       "      <td>0</td>\n",
       "      <td>1</td>\n",
       "      <td>0</td>\n",
       "      <td>0</td>\n",
       "      <td>0</td>\n",
       "      <td>0</td>\n",
       "      <td>0</td>\n",
       "      <td>0</td>\n",
       "      <td>5.0</td>\n",
       "      <td>4.0</td>\n",
       "    </tr>\n",
       "    <tr>\n",
       "      <th>3410</th>\n",
       "      <td>3410</td>\n",
       "      <td>0.0</td>\n",
       "      <td>0.0</td>\n",
       "      <td>0.0</td>\n",
       "      <td>0.0</td>\n",
       "      <td>0.0</td>\n",
       "      <td>0.0</td>\n",
       "      <td>0.0</td>\n",
       "      <td>0.0</td>\n",
       "      <td>0.0</td>\n",
       "      <td>...</td>\n",
       "      <td>0</td>\n",
       "      <td>1</td>\n",
       "      <td>0</td>\n",
       "      <td>0</td>\n",
       "      <td>0</td>\n",
       "      <td>0</td>\n",
       "      <td>0</td>\n",
       "      <td>0</td>\n",
       "      <td>0.0</td>\n",
       "      <td>5.0</td>\n",
       "    </tr>\n",
       "  </tbody>\n",
       "</table>\n",
       "<p>5 rows × 49 columns</p>\n",
       "</div>"
      ],
      "text/plain": [
       "      Unnamed: 0  Coast  Dogs allowed on leash  Dogs not allowed  \\\n",
       "3565        3565    0.0                    0.0               0.0   \n",
       "1479        1479    0.0                    0.0               1.0   \n",
       "1614        1614    0.0                    0.0               1.0   \n",
       "1201        1201    0.0                    1.0               0.0   \n",
       "3410        3410    0.0                    0.0               0.0   \n",
       "\n",
       "      Established campsites  Fall foliage  Good for kids  Lakes  \\\n",
       "3565                    0.0           0.0            0.0    0.0   \n",
       "1479                    0.0           0.0            1.0    1.0   \n",
       "1614                    1.0           1.0            0.0    0.0   \n",
       "1201                    0.0           1.0            1.0    0.0   \n",
       "3410                    0.0           0.0            0.0    0.0   \n",
       "\n",
       "      Mountain views  Old growth   ...    \\\n",
       "3565             0.0         1.0   ...     \n",
       "1479             0.0         0.0   ...     \n",
       "1614             1.0         0.0   ...     \n",
       "1201             0.0         0.0   ...     \n",
       "3410             0.0         0.0   ...     \n",
       "\n",
       "      National Park Pass, Northwest Forest Pass  None  \\\n",
       "3565                                          0     1   \n",
       "1479                                          0     1   \n",
       "1614                                          0     0   \n",
       "1201                                          0     1   \n",
       "3410                                          0     1   \n",
       "\n",
       "      None, Northwest Forest Pass  Northwest Forest Pass  \\\n",
       "3565                            0                      0   \n",
       "1479                            0                      0   \n",
       "1614                            0                      1   \n",
       "1201                            0                      0   \n",
       "3410                            0                      0   \n",
       "\n",
       "      Northwest Forest Pass, Sno-Parks Permit  Oregon State Parks Day-Use  \\\n",
       "3565                                        0                           0   \n",
       "1479                                        0                           0   \n",
       "1614                                        0                           0   \n",
       "1201                                        0                           0   \n",
       "3410                                        0                           0   \n",
       "\n",
       "      Refuge Entrance Pass  Sno-Parks Permit  num_features  rating  \n",
       "3565                     0                 0           2.0     3.5  \n",
       "1479                     0                 0           6.0     4.0  \n",
       "1614                     0                 0           7.0     2.2  \n",
       "1201                     0                 0           5.0     4.0  \n",
       "3410                     0                 0           0.0     5.0  \n",
       "\n",
       "[5 rows x 49 columns]"
      ]
     },
     "execution_count": 18,
     "metadata": {},
     "output_type": "execute_result"
    }
   ],
   "source": [
    "cv_features_df = pd.DataFrame(X)\n",
    "cv_features_df['rating'] = y\n",
    "cv_features_df.head()\n",
    "#cv_features_df.info()"
   ]
  },
  {
   "cell_type": "code",
   "execution_count": 19,
   "metadata": {},
   "outputs": [
    {
     "data": {
      "text/html": [
       "<div>\n",
       "<style scoped>\n",
       "    .dataframe tbody tr th:only-of-type {\n",
       "        vertical-align: middle;\n",
       "    }\n",
       "\n",
       "    .dataframe tbody tr th {\n",
       "        vertical-align: top;\n",
       "    }\n",
       "\n",
       "    .dataframe thead th {\n",
       "        text-align: right;\n",
       "    }\n",
       "</style>\n",
       "<table border=\"1\" class=\"dataframe\">\n",
       "  <thead>\n",
       "    <tr style=\"text-align: right;\">\n",
       "      <th></th>\n",
       "      <th>Unnamed: 0</th>\n",
       "      <th>Coast</th>\n",
       "      <th>Dogs allowed on leash</th>\n",
       "      <th>Dogs not allowed</th>\n",
       "      <th>Established campsites</th>\n",
       "      <th>Fall foliage</th>\n",
       "      <th>Good for kids</th>\n",
       "      <th>Lakes</th>\n",
       "      <th>Mountain views</th>\n",
       "      <th>Old growth</th>\n",
       "      <th>...</th>\n",
       "      <th>None, Northwest Forest Pass</th>\n",
       "      <th>Northwest Forest Pass</th>\n",
       "      <th>Northwest Forest Pass, Sno-Parks Permit</th>\n",
       "      <th>Oregon State Parks Day-Use</th>\n",
       "      <th>Refuge Entrance Pass</th>\n",
       "      <th>Sno-Parks Permit</th>\n",
       "      <th>num_features</th>\n",
       "      <th>rating</th>\n",
       "      <th>cv_residuals</th>\n",
       "      <th>cv_predictions</th>\n",
       "    </tr>\n",
       "  </thead>\n",
       "  <tbody>\n",
       "    <tr>\n",
       "      <th>3565</th>\n",
       "      <td>3565</td>\n",
       "      <td>0.0</td>\n",
       "      <td>0.0</td>\n",
       "      <td>0.0</td>\n",
       "      <td>0.0</td>\n",
       "      <td>0.0</td>\n",
       "      <td>0.0</td>\n",
       "      <td>0.0</td>\n",
       "      <td>0.0</td>\n",
       "      <td>1.0</td>\n",
       "      <td>...</td>\n",
       "      <td>0</td>\n",
       "      <td>0</td>\n",
       "      <td>0</td>\n",
       "      <td>0</td>\n",
       "      <td>0</td>\n",
       "      <td>0</td>\n",
       "      <td>2.0</td>\n",
       "      <td>3.5</td>\n",
       "      <td>0.584059</td>\n",
       "      <td>2.915941</td>\n",
       "    </tr>\n",
       "    <tr>\n",
       "      <th>1479</th>\n",
       "      <td>1479</td>\n",
       "      <td>0.0</td>\n",
       "      <td>0.0</td>\n",
       "      <td>1.0</td>\n",
       "      <td>0.0</td>\n",
       "      <td>0.0</td>\n",
       "      <td>1.0</td>\n",
       "      <td>1.0</td>\n",
       "      <td>0.0</td>\n",
       "      <td>0.0</td>\n",
       "      <td>...</td>\n",
       "      <td>0</td>\n",
       "      <td>0</td>\n",
       "      <td>0</td>\n",
       "      <td>0</td>\n",
       "      <td>0</td>\n",
       "      <td>0</td>\n",
       "      <td>6.0</td>\n",
       "      <td>4.0</td>\n",
       "      <td>0.619290</td>\n",
       "      <td>3.380710</td>\n",
       "    </tr>\n",
       "    <tr>\n",
       "      <th>1614</th>\n",
       "      <td>1614</td>\n",
       "      <td>0.0</td>\n",
       "      <td>0.0</td>\n",
       "      <td>1.0</td>\n",
       "      <td>1.0</td>\n",
       "      <td>1.0</td>\n",
       "      <td>0.0</td>\n",
       "      <td>0.0</td>\n",
       "      <td>1.0</td>\n",
       "      <td>0.0</td>\n",
       "      <td>...</td>\n",
       "      <td>0</td>\n",
       "      <td>1</td>\n",
       "      <td>0</td>\n",
       "      <td>0</td>\n",
       "      <td>0</td>\n",
       "      <td>0</td>\n",
       "      <td>7.0</td>\n",
       "      <td>2.2</td>\n",
       "      <td>-1.042685</td>\n",
       "      <td>3.242685</td>\n",
       "    </tr>\n",
       "    <tr>\n",
       "      <th>1201</th>\n",
       "      <td>1201</td>\n",
       "      <td>0.0</td>\n",
       "      <td>1.0</td>\n",
       "      <td>0.0</td>\n",
       "      <td>0.0</td>\n",
       "      <td>1.0</td>\n",
       "      <td>1.0</td>\n",
       "      <td>0.0</td>\n",
       "      <td>0.0</td>\n",
       "      <td>0.0</td>\n",
       "      <td>...</td>\n",
       "      <td>0</td>\n",
       "      <td>0</td>\n",
       "      <td>0</td>\n",
       "      <td>0</td>\n",
       "      <td>0</td>\n",
       "      <td>0</td>\n",
       "      <td>5.0</td>\n",
       "      <td>4.0</td>\n",
       "      <td>0.842545</td>\n",
       "      <td>3.157455</td>\n",
       "    </tr>\n",
       "    <tr>\n",
       "      <th>3410</th>\n",
       "      <td>3410</td>\n",
       "      <td>0.0</td>\n",
       "      <td>0.0</td>\n",
       "      <td>0.0</td>\n",
       "      <td>0.0</td>\n",
       "      <td>0.0</td>\n",
       "      <td>0.0</td>\n",
       "      <td>0.0</td>\n",
       "      <td>0.0</td>\n",
       "      <td>0.0</td>\n",
       "      <td>...</td>\n",
       "      <td>0</td>\n",
       "      <td>0</td>\n",
       "      <td>0</td>\n",
       "      <td>0</td>\n",
       "      <td>0</td>\n",
       "      <td>0</td>\n",
       "      <td>0.0</td>\n",
       "      <td>5.0</td>\n",
       "      <td>2.024871</td>\n",
       "      <td>2.975129</td>\n",
       "    </tr>\n",
       "  </tbody>\n",
       "</table>\n",
       "<p>5 rows × 51 columns</p>\n",
       "</div>"
      ],
      "text/plain": [
       "      Unnamed: 0  Coast  Dogs allowed on leash  Dogs not allowed  \\\n",
       "3565        3565    0.0                    0.0               0.0   \n",
       "1479        1479    0.0                    0.0               1.0   \n",
       "1614        1614    0.0                    0.0               1.0   \n",
       "1201        1201    0.0                    1.0               0.0   \n",
       "3410        3410    0.0                    0.0               0.0   \n",
       "\n",
       "      Established campsites  Fall foliage  Good for kids  Lakes  \\\n",
       "3565                    0.0           0.0            0.0    0.0   \n",
       "1479                    0.0           0.0            1.0    1.0   \n",
       "1614                    1.0           1.0            0.0    0.0   \n",
       "1201                    0.0           1.0            1.0    0.0   \n",
       "3410                    0.0           0.0            0.0    0.0   \n",
       "\n",
       "      Mountain views  Old growth       ...        None, Northwest Forest Pass  \\\n",
       "3565             0.0         1.0       ...                                  0   \n",
       "1479             0.0         0.0       ...                                  0   \n",
       "1614             1.0         0.0       ...                                  0   \n",
       "1201             0.0         0.0       ...                                  0   \n",
       "3410             0.0         0.0       ...                                  0   \n",
       "\n",
       "      Northwest Forest Pass  Northwest Forest Pass, Sno-Parks Permit  \\\n",
       "3565                      0                                        0   \n",
       "1479                      0                                        0   \n",
       "1614                      1                                        0   \n",
       "1201                      0                                        0   \n",
       "3410                      0                                        0   \n",
       "\n",
       "      Oregon State Parks Day-Use  Refuge Entrance Pass  Sno-Parks Permit  \\\n",
       "3565                           0                     0                 0   \n",
       "1479                           0                     0                 0   \n",
       "1614                           0                     0                 0   \n",
       "1201                           0                     0                 0   \n",
       "3410                           0                     0                 0   \n",
       "\n",
       "      num_features  rating  cv_residuals  cv_predictions  \n",
       "3565           2.0     3.5      0.584059        2.915941  \n",
       "1479           6.0     4.0      0.619290        3.380710  \n",
       "1614           7.0     2.2     -1.042685        3.242685  \n",
       "1201           5.0     4.0      0.842545        3.157455  \n",
       "3410           0.0     5.0      2.024871        2.975129  \n",
       "\n",
       "[5 rows x 51 columns]"
      ]
     },
     "execution_count": 19,
     "metadata": {},
     "output_type": "execute_result"
    }
   ],
   "source": [
    "cv_feat_res_df = cv_features_df\n",
    "cv_feat_res_df['cv_residuals'] = cv_residuals\n",
    "cv_feat_res_df['cv_predictions'] = cv_predictions\n",
    "cv_feat_res_df.head()"
   ]
  },
  {
   "cell_type": "code",
   "execution_count": 20,
   "metadata": {},
   "outputs": [
    {
     "data": {
      "text/plain": [
       "count    2247.000000\n",
       "mean        3.284939\n",
       "std         0.303926\n",
       "min         2.179617\n",
       "25%         3.046027\n",
       "50%         3.249277\n",
       "75%         3.460864\n",
       "max         5.284354\n",
       "Name: cv_predictions, dtype: float64"
      ]
     },
     "execution_count": 20,
     "metadata": {},
     "output_type": "execute_result"
    }
   ],
   "source": [
    "cv_feat_res_df.cv_predictions.describe()"
   ]
  },
  {
   "cell_type": "code",
   "execution_count": 21,
   "metadata": {},
   "outputs": [
    {
     "name": "stdout",
     "output_type": "stream",
     "text": [
      "Residual plot\n"
     ]
    },
    {
     "data": {
      "text/plain": [
       "<matplotlib.axes._subplots.AxesSubplot at 0x7f148e407240>"
      ]
     },
     "execution_count": 21,
     "metadata": {},
     "output_type": "execute_result"
    },
    {
     "data": {
      "image/png": "[encoded data removed]",
      "text/plain": [
       "<Figure size 432x288 with 1 Axes>"
      ]
     },
     "metadata": {},
     "output_type": "display_data"
    }
   ],
   "source": [
    "print(\"Residual plot\")\n",
    "cv_feat_res_df.plot(x='cv_predictions',y='cv_residuals',kind='scatter')"
   ]
  },
  {
   "cell_type": "markdown",
   "metadata": {},
   "source": [
    "# Plot features vs residuals"
   ]
  },
  {
   "cell_type": "code",
   "execution_count": 26,
   "metadata": {},
   "outputs": [
    {
     "data": {
      "text/plain": [
       "Index(['Established campsites', 'Mountain views', 'Ridges/passes', 'Summits',\n",
       "       'Waterfalls', 'Wildflowers/Meadows', 'distance_mi', 'highest_pt', 'lat',\n",
       "       'long', 'num_reports', 'rating_count', 'Issaquah Alps',\n",
       "       'Mount Rainier Area', 'North Cascades', 'Snoqualmie Region',\n",
       "       'National Park Pass', 'Northwest Forest Pass', 'Sno-Parks Permit',\n",
       "       'num_features', 'rating', 'cv_residuals', 'cv_predictions'],\n",
       "      dtype='object')"
      ]
     },
     "execution_count": 26,
     "metadata": {},
     "output_type": "execute_result"
    }
   ],
   "source": [
    "cv_feat_res_df.columns"
   ]
  },
  {
   "cell_type": "code",
   "execution_count": 22,
   "metadata": {},
   "outputs": [
    {
     "data": {
      "text/plain": [
       "<matplotlib.axes._subplots.AxesSubplot at 0x7f148ffeb240>"
      ]
     },
     "execution_count": 22,
     "metadata": {},
     "output_type": "execute_result"
    },
    {
     "data": {
      "image/png": "[encoded data removed]",
      "text/plain": [
       "<Figure size 432x288 with 1 Axes>"
      ]
     },
     "metadata": {},
     "output_type": "display_data"
    }
   ],
   "source": [
    "# distance\n",
    "cv_feat_res_df.plot(x='distance_mi',y='cv_residuals',kind='scatter')"
   ]
  },
  {
   "cell_type": "code",
   "execution_count": 23,
   "metadata": {},
   "outputs": [
    {
     "data": {
      "text/plain": [
       "<matplotlib.axes._subplots.AxesSubplot at 0x7f148ffbfa58>"
      ]
     },
     "execution_count": 23,
     "metadata": {},
     "output_type": "execute_result"
    },
    {
     "data": {
      "image/png": "[encoded data removed]",
      "text/plain": [
       "<Figure size 432x288 with 1 Axes>"
      ]
     },
     "metadata": {},
     "output_type": "display_data"
    }
   ],
   "source": [
    "# highest_pt\n",
    "cv_feat_res_df.plot(x='highest_pt',y='cv_residuals',kind='scatter')"
   ]
  },
  {
   "cell_type": "code",
   "execution_count": 24,
   "metadata": {
    "scrolled": true
   },
   "outputs": [
    {
     "data": {
      "text/plain": [
       "<matplotlib.axes._subplots.AxesSubplot at 0x7f148ff006d8>"
      ]
     },
     "execution_count": 24,
     "metadata": {},
     "output_type": "execute_result"
    },
    {
     "data": {
      "image/png": "[encoded data removed]",
      "text/plain": [
       "<Figure size 432x288 with 1 Axes>"
      ]
     },
     "metadata": {},
     "output_type": "display_data"
    }
   ],
   "source": [
    "# lat\n",
    "cv_feat_res_df.plot(x='lat',y='cv_residuals',kind='scatter')"
   ]
  },
  {
   "cell_type": "code",
   "execution_count": 31,
   "metadata": {},
   "outputs": [
    {
     "data": {
      "text/plain": [
       "<matplotlib.axes._subplots.AxesSubplot at 0x7fc95df78630>"
      ]
     },
     "execution_count": 31,
     "metadata": {},
     "output_type": "execute_result"
    },
    {
     "data": {
      "image/png": "[encoded data removed]",
      "text/plain": [
       "<Figure size 432x288 with 1 Axes>"
      ]
     },
     "metadata": {
      "needs_background": "light"
     },
     "output_type": "display_data"
    }
   ],
   "source": [
    "# longitude\n",
    "cv_feat_res_df.plot(x='long',y='cv_residuals',kind='scatter')"
   ]
  },
  {
   "cell_type": "code",
   "execution_count": 25,
   "metadata": {},
   "outputs": [
    {
     "data": {
      "text/plain": [
       "<matplotlib.axes._subplots.AxesSubplot at 0x7f148e4bdc18>"
      ]
     },
     "execution_count": 25,
     "metadata": {},
     "output_type": "execute_result"
    },
    {
     "data": {
      "image/png": "[encoded data removed]",
      "text/plain": [
       "<Figure size 432x288 with 1 Axes>"
      ]
     },
     "metadata": {},
     "output_type": "display_data"
    }
   ],
   "source": [
    "# num_features\n",
    "cv_feat_res_df.plot(x='num_features',y='cv_residuals',kind='scatter')"
   ]
  },
  {
   "cell_type": "code",
   "execution_count": 26,
   "metadata": {},
   "outputs": [
    {
     "data": {
      "image/png": "[encoded data removed]",
      "text/plain": [
       "<Figure size 360x360 with 1 Axes>"
      ]
     },
     "metadata": {},
     "output_type": "display_data"
    }
   ],
   "source": [
    "# rating_count\n",
    "#cv_feat_res_df.plot(x='rating_count',y='cv_residuals',kind='scatter')\n",
    "#plt.figure(figsize=(15,7))\n",
    "sns.lmplot(y='cv_residuals',x='rating_count',data=cv_feat_res_df,scatter_kws={\"marker\":\"D\",\"s\": 10},fit_reg=False)\n",
    "plt.savefig('residuals vs rating_count_non_log.png',dpi=300,transparent=True)"
   ]
  },
  {
   "cell_type": "code",
   "execution_count": 27,
   "metadata": {},
   "outputs": [
    {
     "data": {
      "image/png": "[encoded data removed]",
      "text/plain": [
       "<Figure size 360x360 with 1 Axes>"
      ]
     },
     "metadata": {},
     "output_type": "display_data"
    }
   ],
   "source": [
    "# num_reports\n",
    "#cv_feat_res_df.plot(x='num_reports',y='cv_residuals',kind='scatter')\n",
    "sns.lmplot(y='cv_residuals',x='num_reports',data=cv_feat_res_df,scatter_kws={\"marker\":\"D\",\"s\": 10},fit_reg=False)\n",
    "plt.savefig('residuals vs num_reports_nonLog.png',dpi=300,transparent=True)"
   ]
  },
  {
   "cell_type": "markdown",
   "metadata": {},
   "source": [
    "## It looks like num_reports and rating_count might benefit from a log transformation. Will add these features & re-run (taking out original features)"
   ]
  },
  {
   "cell_type": "code",
   "execution_count": 28,
   "metadata": {},
   "outputs": [
    {
     "name": "stderr",
     "output_type": "stream",
     "text": [
      "/home/kmussar/anaconda3/lib/python3.7/site-packages/ipykernel_launcher.py:2: RuntimeWarning: divide by zero encountered in log\n",
      "  \n"
     ]
    },
    {
     "data": {
      "text/html": [
       "<div>\n",
       "<style scoped>\n",
       "    .dataframe tbody tr th:only-of-type {\n",
       "        vertical-align: middle;\n",
       "    }\n",
       "\n",
       "    .dataframe tbody tr th {\n",
       "        vertical-align: top;\n",
       "    }\n",
       "\n",
       "    .dataframe thead th {\n",
       "        text-align: right;\n",
       "    }\n",
       "</style>\n",
       "<table border=\"1\" class=\"dataframe\">\n",
       "  <thead>\n",
       "    <tr style=\"text-align: right;\">\n",
       "      <th></th>\n",
       "      <th>rating</th>\n",
       "      <th>Established campsites</th>\n",
       "      <th>Mountain views</th>\n",
       "      <th>Ridges/passes</th>\n",
       "      <th>Summits</th>\n",
       "      <th>Waterfalls</th>\n",
       "      <th>Wildflowers/Meadows</th>\n",
       "      <th>distance_mi</th>\n",
       "      <th>highest_pt</th>\n",
       "      <th>lat</th>\n",
       "      <th>...</th>\n",
       "      <th>Issaquah Alps</th>\n",
       "      <th>Mount Rainier Area</th>\n",
       "      <th>North Cascades</th>\n",
       "      <th>Snoqualmie Region</th>\n",
       "      <th>National Park Pass</th>\n",
       "      <th>Northwest Forest Pass</th>\n",
       "      <th>Sno-Parks Permit</th>\n",
       "      <th>num_features</th>\n",
       "      <th>log_num_reports</th>\n",
       "      <th>log_rating_count</th>\n",
       "    </tr>\n",
       "  </thead>\n",
       "  <tbody>\n",
       "    <tr>\n",
       "      <th>0</th>\n",
       "      <td>3.6</td>\n",
       "      <td>1.0</td>\n",
       "      <td>0.0</td>\n",
       "      <td>1.0</td>\n",
       "      <td>0.0</td>\n",
       "      <td>0.0</td>\n",
       "      <td>0.0</td>\n",
       "      <td>12.0</td>\n",
       "      <td>1900.0</td>\n",
       "      <td>48.6855</td>\n",
       "      <td>...</td>\n",
       "      <td>0</td>\n",
       "      <td>0</td>\n",
       "      <td>1</td>\n",
       "      <td>0</td>\n",
       "      <td>0</td>\n",
       "      <td>0</td>\n",
       "      <td>0</td>\n",
       "      <td>5.0</td>\n",
       "      <td>5.187386</td>\n",
       "      <td>2.944439</td>\n",
       "    </tr>\n",
       "    <tr>\n",
       "      <th>1</th>\n",
       "      <td>3.4</td>\n",
       "      <td>0.0</td>\n",
       "      <td>0.0</td>\n",
       "      <td>0.0</td>\n",
       "      <td>0.0</td>\n",
       "      <td>1.0</td>\n",
       "      <td>0.0</td>\n",
       "      <td>4.0</td>\n",
       "      <td>1700.0</td>\n",
       "      <td>47.9733</td>\n",
       "      <td>...</td>\n",
       "      <td>0</td>\n",
       "      <td>0</td>\n",
       "      <td>0</td>\n",
       "      <td>0</td>\n",
       "      <td>0</td>\n",
       "      <td>0</td>\n",
       "      <td>0</td>\n",
       "      <td>4.0</td>\n",
       "      <td>3.891820</td>\n",
       "      <td>1.945910</td>\n",
       "    </tr>\n",
       "    <tr>\n",
       "      <th>3</th>\n",
       "      <td>2.7</td>\n",
       "      <td>0.0</td>\n",
       "      <td>0.0</td>\n",
       "      <td>0.0</td>\n",
       "      <td>0.0</td>\n",
       "      <td>0.0</td>\n",
       "      <td>0.0</td>\n",
       "      <td>11.5</td>\n",
       "      <td>0.0</td>\n",
       "      <td>48.5076</td>\n",
       "      <td>...</td>\n",
       "      <td>0</td>\n",
       "      <td>0</td>\n",
       "      <td>1</td>\n",
       "      <td>0</td>\n",
       "      <td>0</td>\n",
       "      <td>1</td>\n",
       "      <td>0</td>\n",
       "      <td>0.0</td>\n",
       "      <td>2.639057</td>\n",
       "      <td>1.386294</td>\n",
       "    </tr>\n",
       "    <tr>\n",
       "      <th>9</th>\n",
       "      <td>2.0</td>\n",
       "      <td>0.0</td>\n",
       "      <td>1.0</td>\n",
       "      <td>0.0</td>\n",
       "      <td>1.0</td>\n",
       "      <td>0.0</td>\n",
       "      <td>1.0</td>\n",
       "      <td>16.0</td>\n",
       "      <td>8122.0</td>\n",
       "      <td>48.3801</td>\n",
       "      <td>...</td>\n",
       "      <td>0</td>\n",
       "      <td>0</td>\n",
       "      <td>0</td>\n",
       "      <td>0</td>\n",
       "      <td>0</td>\n",
       "      <td>0</td>\n",
       "      <td>0</td>\n",
       "      <td>4.0</td>\n",
       "      <td>2.890372</td>\n",
       "      <td>0.693147</td>\n",
       "    </tr>\n",
       "    <tr>\n",
       "      <th>10</th>\n",
       "      <td>3.0</td>\n",
       "      <td>0.0</td>\n",
       "      <td>1.0</td>\n",
       "      <td>1.0</td>\n",
       "      <td>1.0</td>\n",
       "      <td>0.0</td>\n",
       "      <td>1.0</td>\n",
       "      <td>16.0</td>\n",
       "      <td>7750.0</td>\n",
       "      <td>48.5091</td>\n",
       "      <td>...</td>\n",
       "      <td>0</td>\n",
       "      <td>0</td>\n",
       "      <td>1</td>\n",
       "      <td>0</td>\n",
       "      <td>0</td>\n",
       "      <td>1</td>\n",
       "      <td>0</td>\n",
       "      <td>8.0</td>\n",
       "      <td>0.000000</td>\n",
       "      <td>0.000000</td>\n",
       "    </tr>\n",
       "  </tbody>\n",
       "</table>\n",
       "<p>5 rows × 21 columns</p>\n",
       "</div>"
      ],
      "text/plain": [
       "    rating  Established campsites  Mountain views  Ridges/passes  Summits  \\\n",
       "0      3.6                    1.0             0.0            1.0      0.0   \n",
       "1      3.4                    0.0             0.0            0.0      0.0   \n",
       "3      2.7                    0.0             0.0            0.0      0.0   \n",
       "9      2.0                    0.0             1.0            0.0      1.0   \n",
       "10     3.0                    0.0             1.0            1.0      1.0   \n",
       "\n",
       "    Waterfalls  Wildflowers/Meadows  distance_mi  highest_pt      lat  \\\n",
       "0          0.0                  0.0         12.0      1900.0  48.6855   \n",
       "1          1.0                  0.0          4.0      1700.0  47.9733   \n",
       "3          0.0                  0.0         11.5         0.0  48.5076   \n",
       "9          0.0                  1.0         16.0      8122.0  48.3801   \n",
       "10         0.0                  1.0         16.0      7750.0  48.5091   \n",
       "\n",
       "          ...         Issaquah Alps  Mount Rainier Area  North Cascades  \\\n",
       "0         ...                     0                   0               1   \n",
       "1         ...                     0                   0               0   \n",
       "3         ...                     0                   0               1   \n",
       "9         ...                     0                   0               0   \n",
       "10        ...                     0                   0               1   \n",
       "\n",
       "    Snoqualmie Region  National Park Pass  Northwest Forest Pass  \\\n",
       "0                   0                   0                      0   \n",
       "1                   0                   0                      0   \n",
       "3                   0                   0                      1   \n",
       "9                   0                   0                      0   \n",
       "10                  0                   0                      1   \n",
       "\n",
       "    Sno-Parks Permit  num_features  log_num_reports  log_rating_count  \n",
       "0                  0           5.0         5.187386          2.944439  \n",
       "1                  0           4.0         3.891820          1.945910  \n",
       "3                  0           0.0         2.639057          1.386294  \n",
       "9                  0           4.0         2.890372          0.693147  \n",
       "10                 0           8.0         0.000000          0.000000  \n",
       "\n",
       "[5 rows x 21 columns]"
      ]
     },
     "execution_count": 28,
     "metadata": {},
     "output_type": "execute_result"
    }
   ],
   "source": [
    "df_log = df\n",
    "df_log['log_num_reports']= np.log(df['num_reports'])\n",
    "df_log['log_rating_count']= np.log(df['rating_count'])\n",
    "df_log.drop(columns=['num_reports','rating_count'],axis=1, inplace=True)\n",
    "df_log = df_log.dropna()\n",
    "df_log.head()"
   ]
  },
  {
   "cell_type": "code",
   "execution_count": 29,
   "metadata": {},
   "outputs": [],
   "source": [
    "df_log.drop(df_log[df_log.log_num_reports < 0.0001].index, inplace=True)\n",
    "df_log.drop(df_log[df_log.log_rating_count < 0.0001].index, inplace=True)"
   ]
  },
  {
   "cell_type": "code",
   "execution_count": 30,
   "metadata": {},
   "outputs": [],
   "source": [
    "X1 = df_log.drop(columns=['rating'],axis=1)\n",
    "y1 = df_log['rating']\n",
    "# hold out 20% of the data for final testing\n",
    "X1, X1_test, y1, y1_test = train_test_split(X1, y1, test_size=.2, random_state=10)"
   ]
  },
  {
   "cell_type": "code",
   "execution_count": 31,
   "metadata": {},
   "outputs": [],
   "source": [
    "import pickle\n",
    "\n",
    "with open('most_recent_df_log.pickle', 'wb') as to_write:\n",
    "    pickle.dump(df_log, to_write)"
   ]
  },
  {
   "cell_type": "markdown",
   "metadata": {},
   "source": [
    "# Plotting residuals (not cross-validation)"
   ]
  },
  {
   "cell_type": "code",
   "execution_count": 31,
   "metadata": {
    "collapsed": true
   },
   "outputs": [
    {
     "name": "stdout",
     "output_type": "stream",
     "text": [
      "<class 'pandas.core.frame.DataFrame'>\n",
      "Int64Index: 1601 entries, 0 to 447\n",
      "Data columns (total 23 columns):\n",
      "Established campsites    1137 non-null float64\n",
      "Issaquah Alps            1137 non-null float64\n",
      "Mount Rainier Area       1137 non-null float64\n",
      "Mountain views           1137 non-null float64\n",
      "National Park Pass       1137 non-null float64\n",
      "North Cascades           1137 non-null float64\n",
      "Northwest Forest Pass    1137 non-null float64\n",
      "Ridges/passes            1137 non-null float64\n",
      "Sno-Parks Permit         1137 non-null float64\n",
      "Snoqualmie Region        1137 non-null float64\n",
      "Summits                  1137 non-null float64\n",
      "Waterfalls               1137 non-null float64\n",
      "Wildflowers/Meadows      1137 non-null float64\n",
      "distance_mi              1137 non-null float64\n",
      "highest_pt               1137 non-null float64\n",
      "lat                      1137 non-null float64\n",
      "long                     1137 non-null float64\n",
      "num_features             1137 non-null float64\n",
      "num_reports              1137 non-null float64\n",
      "predictions              464 non-null float64\n",
      "rating                   1137 non-null float64\n",
      "rating_count             1137 non-null float64\n",
      "residuals                464 non-null float64\n",
      "dtypes: float64(23)\n",
      "memory usage: 300.2 KB\n"
     ]
    },
    {
     "name": "stderr",
     "output_type": "stream",
     "text": [
      "/home/kmussar/anaconda3/lib/python3.7/site-packages/ipykernel_launcher.py:1: FutureWarning: Sorting because non-concatenation axis is not aligned. A future version\n",
      "of pandas will change to not sort by default.\n",
      "\n",
      "To accept the future behavior, pass 'sort=False'.\n",
      "\n",
      "To retain the current behavior and silence the warning, pass 'sort=True'.\n",
      "\n",
      "  \"\"\"Entry point for launching an IPython kernel.\n"
     ]
    }
   ],
   "source": [
    "df3 = pd.concat([df,cv_results_df])\n",
    "df3.info()"
   ]
  },
  {
   "cell_type": "code",
   "execution_count": 34,
   "metadata": {},
   "outputs": [
    {
     "name": "stdout",
     "output_type": "stream",
     "text": [
      "Residual plot\n"
     ]
    },
    {
     "data": {
      "text/plain": [
       "<matplotlib.axes._subplots.AxesSubplot at 0x7f4a20315668>"
      ]
     },
     "execution_count": 34,
     "metadata": {},
     "output_type": "execute_result"
    },
    {
     "data": {
      "image/png": "[encoded data removed]",
      "text/plain": [
       "<Figure size 432x288 with 1 Axes>"
      ]
     },
     "metadata": {
      "needs_background": "light"
     },
     "output_type": "display_data"
    }
   ],
   "source": [
    "print(\"Residual plot\")\n",
    "df3.plot(x='predictions',y='residuals',kind='scatter')"
   ]
  },
  {
   "cell_type": "code",
   "execution_count": 32,
   "metadata": {},
   "outputs": [
    {
     "data": {
      "text/plain": [
       "Text(0.5, 1.0, 'Normal Q-Q plot')"
      ]
     },
     "execution_count": 32,
     "metadata": {},
     "output_type": "execute_result"
    },
    {
     "data": {
      "image/png": "[encoded data removed]",
      "text/plain": [
       "<Figure size 432x288 with 1 Axes>"
      ]
     },
     "metadata": {
      "needs_background": "light"
     },
     "output_type": "display_data"
    }
   ],
   "source": [
    "# Q-Q plot\n",
    "stats.probplot(df3.residuals, dist=\"norm\", plot=plt)\n",
    "plt.title(\"Normal Q-Q plot\")"
   ]
  },
  {
   "cell_type": "markdown",
   "metadata": {},
   "source": [
    "# Box-Cox Transformation"
   ]
  },
  {
   "cell_type": "code",
   "execution_count": 39,
   "metadata": {},
   "outputs": [
    {
     "name": "stdout",
     "output_type": "stream",
     "text": [
      "[ 1.81615412e+00 -6.01706595e+00  1.75491361e+00 -5.80325534e+00\n",
      " -6.51178909e+00 -7.61659644e+00 -3.72037881e-01  4.30185202e-01\n",
      "  4.21059815e-01  8.44677166e+00 -7.95031022e+00 -4.36578887e-03\n",
      " -2.63299688e-01 -2.46030861e+01 -1.60179443e+01 -9.01383456e+00\n",
      " -1.22804998e+01 -1.88730993e+01 -3.06311310e+00 -1.37777380e+02\n",
      "  1.06284884e+00]\n"
     ]
    }
   ],
   "source": [
    "from sklearn.preprocessing import PowerTransformer\n",
    "pt = PowerTransformer()\n",
    "pt.fit(df)\n",
    "print(pt.lambdas_)"
   ]
  },
  {
   "cell_type": "code",
   "execution_count": 41,
   "metadata": {},
   "outputs": [
    {
     "data": {
      "text/plain": [
       "array([[ 0.17447958, -0.53740015,  0.81827894, ..., -0.70988521,\n",
       "        -0.1028689 ,  0.13670423],\n",
       "       [ 0.47608386, -0.53740015, -1.22207716, ..., -0.70988521,\n",
       "        -0.1028689 , -0.3668258 ],\n",
       "       [ 0.78790624, -0.53740015,  0.81827894, ..., -0.70988521,\n",
       "         9.72111105, -1.35339398],\n",
       "       ...,\n",
       "       [-0.25859484, -0.53740015, -1.22207716, ..., -0.70988521,\n",
       "        -0.1028689 ,  0.13670423],\n",
       "       [ 0.17447958, -0.53740015, -1.22207716, ..., -0.70988521,\n",
       "        -0.1028689 , -0.86402518],\n",
       "       [ 2.31562427, -0.53740015, -1.22207716, ..., -0.70988521,\n",
       "        -0.1028689 , -0.3668258 ]])"
      ]
     },
     "execution_count": 41,
     "metadata": {},
     "output_type": "execute_result"
    }
   ],
   "source": [
    "pt.transform(df)"
   ]
  },
  {
   "cell_type": "markdown",
   "metadata": {},
   "source": [
    "# Standard Scalar"
   ]
  },
  {
   "cell_type": "code",
   "execution_count": 32,
   "metadata": {},
   "outputs": [
    {
     "name": "stdout",
     "output_type": "stream",
     "text": [
      "MAE: 1.0620371649922125\n",
      "MSE: 14.316966730683976\n",
      "RMSE: 3.7837767812972234\n",
      "R^2: -19.558954956881248\n"
     ]
    }
   ],
   "source": [
    "scaler = StandardScaler()\n",
    "\n",
    "X_train_scaled = scaler.fit_transform(X_train.values)\n",
    "X_val_scaled = scaler.transform(X_val.values)\n",
    "X_test_scaled = scaler.transform(X_test.values)\n",
    "\n",
    "lr_scalar = LinearRegression()\n",
    "lr_scalar.fit(X_train_scaled, y_train)\n",
    "predictions2 = lr.predict(X_val_scaled)\n",
    "\n",
    "print('MAE:', metrics.mean_absolute_error(y_val, predictions2))\n",
    "print('MSE:', metrics.mean_squared_error(y_val, predictions2))\n",
    "print('RMSE:', np.sqrt(metrics.mean_squared_error(y_val, predictions2)))\n",
    "print('R^2:', metrics.explained_variance_score(y_val,predictions2))"
   ]
  },
  {
   "cell_type": "markdown",
   "metadata": {},
   "source": [
    "**when I scale, looks like overfitting (negative R2)** \n",
    "\n",
    "or.... my effect is just super small... "
   ]
  },
  {
   "cell_type": "markdown",
   "metadata": {},
   "source": [
    "# Polynomial "
   ]
  },
  {
   "cell_type": "code",
   "execution_count": 33,
   "metadata": {},
   "outputs": [
    {
     "name": "stdout",
     "output_type": "stream",
     "text": [
      "Degree 2 polynomial regression val R^2: -142113.773\n"
     ]
    }
   ],
   "source": [
    "# none of my data looked polynomial during EDA \n",
    "# so my guess is this will be worse than the prev. 2\n",
    "poly = PolynomialFeatures(degree=2) \n",
    "\n",
    "X_train_poly = poly.fit_transform(X_train.values)\n",
    "X_val_poly = poly.transform(X_val.values)\n",
    "X_test_poly = poly.transform(X_test.values)\n",
    "lm_poly = LinearRegression()\n",
    "lm_poly.fit(X_train_poly, y_train)\n",
    "print(f'Degree 2 polynomial regression val R^2: {lm_poly.score(X_val_poly, y_val):.3f}')"
   ]
  },
  {
   "cell_type": "markdown",
   "metadata": {},
   "source": [
    "**On the plus side, my assumption was correct - polynomial is not the way to go!**\n",
    "\n",
    "* degree 2 R^2: -35.924\n",
    "* degree 3 R^2: -945248.883\n",
    "\n",
    "I will run degree 3 for funsies. Well that's not right. "
   ]
  }
 ],
 "metadata": {
  "kernelspec": {
   "display_name": "Python 3",
   "language": "python",
   "name": "python3"
  },
  "language_info": {
   "codemirror_mode": {
    "name": "ipython",
    "version": 3
   },
   "file_extension": ".py",
   "mimetype": "text/x-python",
   "name": "python",
   "nbconvert_exporter": "python",
   "pygments_lexer": "ipython3",
   "version": "3.7.1"
  }
 },
 "nbformat": 4,
 "nbformat_minor": 2
}
