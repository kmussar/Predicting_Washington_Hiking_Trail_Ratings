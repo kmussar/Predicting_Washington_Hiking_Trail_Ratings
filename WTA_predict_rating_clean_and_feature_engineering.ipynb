{
 "cells": [
  {
   "cell_type": "code",
   "execution_count": 1,
   "metadata": {},
   "outputs": [],
   "source": [
    "import numpy as np\n",
    "import pandas as pd\n",
    "import pickle\n",
    "import matplotlib.pyplot as plt\n",
    "import seaborn as sns"
   ]
  },
  {
   "cell_type": "markdown",
   "metadata": {},
   "source": [
    "## Data from web scraping was stored in batches - This code merges them into one dataframe. "
   ]
  },
  {
   "cell_type": "code",
   "execution_count": 2,
   "metadata": {
    "collapsed": true
   },
   "outputs": [
    {
     "name": "stderr",
     "output_type": "stream",
     "text": [
      "/home/kmussar/anaconda3/lib/python3.7/site-packages/ipykernel_launcher.py:8: FutureWarning: Sorting because non-concatenation axis is not aligned. A future version\n",
      "of pandas will change to not sort by default.\n",
      "\n",
      "To accept the future behavior, pass 'sort=False'.\n",
      "\n",
      "To retain the current behavior and silence the warning, pass 'sort=True'.\n",
      "\n",
      "  \n"
     ]
    },
    {
     "data": {
      "text/html": [
       "<div>\n",
       "<style scoped>\n",
       "    .dataframe tbody tr th:only-of-type {\n",
       "        vertical-align: middle;\n",
       "    }\n",
       "\n",
       "    .dataframe tbody tr th {\n",
       "        vertical-align: top;\n",
       "    }\n",
       "\n",
       "    .dataframe thead th {\n",
       "        text-align: right;\n",
       "    }\n",
       "</style>\n",
       "<table border=\"1\" class=\"dataframe\">\n",
       "  <thead>\n",
       "    <tr style=\"text-align: right;\">\n",
       "      <th></th>\n",
       "      <th>Coast</th>\n",
       "      <th>Dogs allowed on leash</th>\n",
       "      <th>Dogs not allowed</th>\n",
       "      <th>Established campsites</th>\n",
       "      <th>Fall foliage</th>\n",
       "      <th>Good for kids</th>\n",
       "      <th>Lakes</th>\n",
       "      <th>Mountain views</th>\n",
       "      <th>Old growth</th>\n",
       "      <th>Ridges/passes</th>\n",
       "      <th>...</th>\n",
       "      <th>gain</th>\n",
       "      <th>highest_pt</th>\n",
       "      <th>lat</th>\n",
       "      <th>long</th>\n",
       "      <th>num_reports</th>\n",
       "      <th>permit</th>\n",
       "      <th>rating</th>\n",
       "      <th>rating_count</th>\n",
       "      <th>region</th>\n",
       "      <th>trail_name</th>\n",
       "    </tr>\n",
       "  </thead>\n",
       "  <tbody>\n",
       "    <tr>\n",
       "      <th>0</th>\n",
       "      <td>NaN</td>\n",
       "      <td>1.0</td>\n",
       "      <td>NaN</td>\n",
       "      <td>NaN</td>\n",
       "      <td>NaN</td>\n",
       "      <td>1.0</td>\n",
       "      <td>1.0</td>\n",
       "      <td>1.0</td>\n",
       "      <td>NaN</td>\n",
       "      <td>NaN</td>\n",
       "      <td>...</td>\n",
       "      <td>NaN</td>\n",
       "      <td>NaN</td>\n",
       "      <td>47.4375</td>\n",
       "      <td>-122.0850</td>\n",
       "      <td>25.0</td>\n",
       "      <td>None</td>\n",
       "      <td>3.7</td>\n",
       "      <td>7 votes</td>\n",
       "      <td>Issaquah Alps</td>\n",
       "      <td>Spring Lake/Lake Desire Park</td>\n",
       "    </tr>\n",
       "    <tr>\n",
       "      <th>1</th>\n",
       "      <td>NaN</td>\n",
       "      <td>1.0</td>\n",
       "      <td>NaN</td>\n",
       "      <td>NaN</td>\n",
       "      <td>NaN</td>\n",
       "      <td>1.0</td>\n",
       "      <td>1.0</td>\n",
       "      <td>NaN</td>\n",
       "      <td>NaN</td>\n",
       "      <td>NaN</td>\n",
       "      <td>...</td>\n",
       "      <td>900.0</td>\n",
       "      <td>5475.0</td>\n",
       "      <td>47.2942</td>\n",
       "      <td>-120.3987</td>\n",
       "      <td>73.0</td>\n",
       "      <td>None</td>\n",
       "      <td>3.9</td>\n",
       "      <td>15 votes</td>\n",
       "      <td>Central Washington -- Wenatchee</td>\n",
       "      <td>Clara and Marion Lakes</td>\n",
       "    </tr>\n",
       "    <tr>\n",
       "      <th>2</th>\n",
       "      <td>NaN</td>\n",
       "      <td>NaN</td>\n",
       "      <td>NaN</td>\n",
       "      <td>NaN</td>\n",
       "      <td>NaN</td>\n",
       "      <td>1.0</td>\n",
       "      <td>NaN</td>\n",
       "      <td>1.0</td>\n",
       "      <td>NaN</td>\n",
       "      <td>NaN</td>\n",
       "      <td>...</td>\n",
       "      <td>400.0</td>\n",
       "      <td>4500.0</td>\n",
       "      <td>47.3357</td>\n",
       "      <td>-120.5804</td>\n",
       "      <td>71.0</td>\n",
       "      <td>Sno-Parks Permit</td>\n",
       "      <td>4.1</td>\n",
       "      <td>9 votes</td>\n",
       "      <td>Central Cascades -- Blewett Pass</td>\n",
       "      <td>Wenatchee Crest Snowshoe</td>\n",
       "    </tr>\n",
       "    <tr>\n",
       "      <th>3</th>\n",
       "      <td>NaN</td>\n",
       "      <td>1.0</td>\n",
       "      <td>NaN</td>\n",
       "      <td>NaN</td>\n",
       "      <td>NaN</td>\n",
       "      <td>1.0</td>\n",
       "      <td>NaN</td>\n",
       "      <td>NaN</td>\n",
       "      <td>NaN</td>\n",
       "      <td>NaN</td>\n",
       "      <td>...</td>\n",
       "      <td>2050.0</td>\n",
       "      <td>-50000.0</td>\n",
       "      <td>47.6780</td>\n",
       "      <td>-120.7324</td>\n",
       "      <td>3.0</td>\n",
       "      <td>Northwest Forest Pass</td>\n",
       "      <td>2.5</td>\n",
       "      <td>2 votes</td>\n",
       "      <td>Central Cascades -- Leavenworth Area</td>\n",
       "      <td>Tumwater Campground Snowshoe</td>\n",
       "    </tr>\n",
       "    <tr>\n",
       "      <th>4</th>\n",
       "      <td>NaN</td>\n",
       "      <td>1.0</td>\n",
       "      <td>NaN</td>\n",
       "      <td>NaN</td>\n",
       "      <td>NaN</td>\n",
       "      <td>1.0</td>\n",
       "      <td>NaN</td>\n",
       "      <td>1.0</td>\n",
       "      <td>NaN</td>\n",
       "      <td>NaN</td>\n",
       "      <td>...</td>\n",
       "      <td>100.0</td>\n",
       "      <td>-50000.0</td>\n",
       "      <td>48.7669</td>\n",
       "      <td>-122.5163</td>\n",
       "      <td>7.0</td>\n",
       "      <td>None</td>\n",
       "      <td>3.0</td>\n",
       "      <td>3 votes</td>\n",
       "      <td>North Cascades -- Mount Baker Area</td>\n",
       "      <td>Bay to Baker Trail</td>\n",
       "    </tr>\n",
       "  </tbody>\n",
       "</table>\n",
       "<p>5 rows × 28 columns</p>\n",
       "</div>"
      ],
      "text/plain": [
       "   Coast  Dogs allowed on leash  Dogs not allowed  Established campsites  \\\n",
       "0    NaN                    1.0               NaN                    NaN   \n",
       "1    NaN                    1.0               NaN                    NaN   \n",
       "2    NaN                    NaN               NaN                    NaN   \n",
       "3    NaN                    1.0               NaN                    NaN   \n",
       "4    NaN                    1.0               NaN                    NaN   \n",
       "\n",
       "   Fall foliage  Good for kids  Lakes  Mountain views  Old growth  \\\n",
       "0           NaN            1.0    1.0             1.0         NaN   \n",
       "1           NaN            1.0    1.0             NaN         NaN   \n",
       "2           NaN            1.0    NaN             1.0         NaN   \n",
       "3           NaN            1.0    NaN             NaN         NaN   \n",
       "4           NaN            1.0    NaN             1.0         NaN   \n",
       "\n",
       "   Ridges/passes              ...                 gain  highest_pt      lat  \\\n",
       "0            NaN              ...                  NaN         NaN  47.4375   \n",
       "1            NaN              ...                900.0      5475.0  47.2942   \n",
       "2            NaN              ...                400.0      4500.0  47.3357   \n",
       "3            NaN              ...               2050.0    -50000.0  47.6780   \n",
       "4            NaN              ...                100.0    -50000.0  48.7669   \n",
       "\n",
       "       long  num_reports                 permit rating rating_count  \\\n",
       "0 -122.0850         25.0                   None    3.7     7 votes    \n",
       "1 -120.3987         73.0                   None    3.9    15 votes    \n",
       "2 -120.5804         71.0       Sno-Parks Permit    4.1     9 votes    \n",
       "3 -120.7324          3.0  Northwest Forest Pass    2.5     2 votes    \n",
       "4 -122.5163          7.0                   None    3.0     3 votes    \n",
       "\n",
       "                                 region                    trail_name  \n",
       "0                         Issaquah Alps  Spring Lake/Lake Desire Park  \n",
       "1       Central Washington -- Wenatchee        Clara and Marion Lakes  \n",
       "2      Central Cascades -- Blewett Pass      Wenatchee Crest Snowshoe  \n",
       "3  Central Cascades -- Leavenworth Area  Tumwater Campground Snowshoe  \n",
       "4    North Cascades -- Mount Baker Area            Bay to Baker Trail  \n",
       "\n",
       "[5 rows x 28 columns]"
      ]
     },
     "execution_count": 2,
     "metadata": {},
     "output_type": "execute_result"
    }
   ],
   "source": [
    "df1 = pd.read_csv('wta_trail_info_to_200.csv')\n",
    "df2 = pd.read_csv('wta_trail_info_to_500.csv')\n",
    "df3 = pd.read_csv('wta_trail_info_to_1000.csv')\n",
    "df4 = pd.read_csv('wta_trail_info_to_1109.csv')\n",
    "df5 = pd.read_csv('wta_trail_info_to_1300.csv')\n",
    "to_connect = [df1, df2, df3, df4, df5]\n",
    "\n",
    "df = pd.concat(to_connect)\n",
    "df.head()"
   ]
  },
  {
   "cell_type": "code",
   "execution_count": 3,
   "metadata": {},
   "outputs": [],
   "source": [
    "df6 = pd.read_csv('wta_trail_info_to_1300.csv')\n",
    "df7 = pd.read_csv('wta_trail_info_to_1463.csv')\n",
    "df8 = pd.read_csv('wta_trail_info_to_2275.csv')\n",
    "df9 = pd.read_csv('wta_trail_info_to_2999.csv')\n",
    "df10 = pd.read_csv('wta_trail_info_to_3243.csv')\n",
    "df11 = pd.read_csv('wta_trail_info_to_3600.csv')"
   ]
  },
  {
   "cell_type": "code",
   "execution_count": 4,
   "metadata": {
    "collapsed": true
   },
   "outputs": [
    {
     "name": "stderr",
     "output_type": "stream",
     "text": [
      "/home/kmussar/anaconda3/lib/python3.7/site-packages/ipykernel_launcher.py:1: FutureWarning: Sorting because non-concatenation axis is not aligned. A future version\n",
      "of pandas will change to not sort by default.\n",
      "\n",
      "To accept the future behavior, pass 'sort=False'.\n",
      "\n",
      "To retain the current behavior and silence the warning, pass 'sort=True'.\n",
      "\n",
      "  \"\"\"Entry point for launching an IPython kernel.\n"
     ]
    },
    {
     "data": {
      "text/html": [
       "<div>\n",
       "<style scoped>\n",
       "    .dataframe tbody tr th:only-of-type {\n",
       "        vertical-align: middle;\n",
       "    }\n",
       "\n",
       "    .dataframe tbody tr th {\n",
       "        vertical-align: top;\n",
       "    }\n",
       "\n",
       "    .dataframe thead th {\n",
       "        text-align: right;\n",
       "    }\n",
       "</style>\n",
       "<table border=\"1\" class=\"dataframe\">\n",
       "  <thead>\n",
       "    <tr style=\"text-align: right;\">\n",
       "      <th></th>\n",
       "      <th>Coast</th>\n",
       "      <th>Dogs allowed on leash</th>\n",
       "      <th>Dogs not allowed</th>\n",
       "      <th>Established campsites</th>\n",
       "      <th>Fall foliage</th>\n",
       "      <th>Good for kids</th>\n",
       "      <th>Lakes</th>\n",
       "      <th>Mountain views</th>\n",
       "      <th>Old growth</th>\n",
       "      <th>Ridges/passes</th>\n",
       "      <th>...</th>\n",
       "      <th>gain</th>\n",
       "      <th>highest_pt</th>\n",
       "      <th>lat</th>\n",
       "      <th>long</th>\n",
       "      <th>num_reports</th>\n",
       "      <th>permit</th>\n",
       "      <th>rating</th>\n",
       "      <th>rating_count</th>\n",
       "      <th>region</th>\n",
       "      <th>trail_name</th>\n",
       "    </tr>\n",
       "  </thead>\n",
       "  <tbody>\n",
       "    <tr>\n",
       "      <th>0</th>\n",
       "      <td>NaN</td>\n",
       "      <td>1.0</td>\n",
       "      <td>NaN</td>\n",
       "      <td>NaN</td>\n",
       "      <td>NaN</td>\n",
       "      <td>1.0</td>\n",
       "      <td>1.0</td>\n",
       "      <td>1.0</td>\n",
       "      <td>NaN</td>\n",
       "      <td>NaN</td>\n",
       "      <td>...</td>\n",
       "      <td>NaN</td>\n",
       "      <td>NaN</td>\n",
       "      <td>47.4375</td>\n",
       "      <td>-122.0850</td>\n",
       "      <td>25.0</td>\n",
       "      <td>None</td>\n",
       "      <td>3.7</td>\n",
       "      <td>7 votes</td>\n",
       "      <td>Issaquah Alps</td>\n",
       "      <td>Spring Lake/Lake Desire Park</td>\n",
       "    </tr>\n",
       "    <tr>\n",
       "      <th>1</th>\n",
       "      <td>NaN</td>\n",
       "      <td>1.0</td>\n",
       "      <td>NaN</td>\n",
       "      <td>NaN</td>\n",
       "      <td>NaN</td>\n",
       "      <td>1.0</td>\n",
       "      <td>1.0</td>\n",
       "      <td>NaN</td>\n",
       "      <td>NaN</td>\n",
       "      <td>NaN</td>\n",
       "      <td>...</td>\n",
       "      <td>900.0</td>\n",
       "      <td>5475.0</td>\n",
       "      <td>47.2942</td>\n",
       "      <td>-120.3987</td>\n",
       "      <td>73.0</td>\n",
       "      <td>None</td>\n",
       "      <td>3.9</td>\n",
       "      <td>15 votes</td>\n",
       "      <td>Central Washington -- Wenatchee</td>\n",
       "      <td>Clara and Marion Lakes</td>\n",
       "    </tr>\n",
       "    <tr>\n",
       "      <th>2</th>\n",
       "      <td>NaN</td>\n",
       "      <td>NaN</td>\n",
       "      <td>NaN</td>\n",
       "      <td>NaN</td>\n",
       "      <td>NaN</td>\n",
       "      <td>1.0</td>\n",
       "      <td>NaN</td>\n",
       "      <td>1.0</td>\n",
       "      <td>NaN</td>\n",
       "      <td>NaN</td>\n",
       "      <td>...</td>\n",
       "      <td>400.0</td>\n",
       "      <td>4500.0</td>\n",
       "      <td>47.3357</td>\n",
       "      <td>-120.5804</td>\n",
       "      <td>71.0</td>\n",
       "      <td>Sno-Parks Permit</td>\n",
       "      <td>4.1</td>\n",
       "      <td>9 votes</td>\n",
       "      <td>Central Cascades -- Blewett Pass</td>\n",
       "      <td>Wenatchee Crest Snowshoe</td>\n",
       "    </tr>\n",
       "    <tr>\n",
       "      <th>3</th>\n",
       "      <td>NaN</td>\n",
       "      <td>1.0</td>\n",
       "      <td>NaN</td>\n",
       "      <td>NaN</td>\n",
       "      <td>NaN</td>\n",
       "      <td>1.0</td>\n",
       "      <td>NaN</td>\n",
       "      <td>NaN</td>\n",
       "      <td>NaN</td>\n",
       "      <td>NaN</td>\n",
       "      <td>...</td>\n",
       "      <td>2050.0</td>\n",
       "      <td>-50000.0</td>\n",
       "      <td>47.6780</td>\n",
       "      <td>-120.7324</td>\n",
       "      <td>3.0</td>\n",
       "      <td>Northwest Forest Pass</td>\n",
       "      <td>2.5</td>\n",
       "      <td>2 votes</td>\n",
       "      <td>Central Cascades -- Leavenworth Area</td>\n",
       "      <td>Tumwater Campground Snowshoe</td>\n",
       "    </tr>\n",
       "    <tr>\n",
       "      <th>4</th>\n",
       "      <td>NaN</td>\n",
       "      <td>1.0</td>\n",
       "      <td>NaN</td>\n",
       "      <td>NaN</td>\n",
       "      <td>NaN</td>\n",
       "      <td>1.0</td>\n",
       "      <td>NaN</td>\n",
       "      <td>1.0</td>\n",
       "      <td>NaN</td>\n",
       "      <td>NaN</td>\n",
       "      <td>...</td>\n",
       "      <td>100.0</td>\n",
       "      <td>-50000.0</td>\n",
       "      <td>48.7669</td>\n",
       "      <td>-122.5163</td>\n",
       "      <td>7.0</td>\n",
       "      <td>None</td>\n",
       "      <td>3.0</td>\n",
       "      <td>3 votes</td>\n",
       "      <td>North Cascades -- Mount Baker Area</td>\n",
       "      <td>Bay to Baker Trail</td>\n",
       "    </tr>\n",
       "  </tbody>\n",
       "</table>\n",
       "<p>5 rows × 28 columns</p>\n",
       "</div>"
      ],
      "text/plain": [
       "   Coast  Dogs allowed on leash  Dogs not allowed  Established campsites  \\\n",
       "0    NaN                    1.0               NaN                    NaN   \n",
       "1    NaN                    1.0               NaN                    NaN   \n",
       "2    NaN                    NaN               NaN                    NaN   \n",
       "3    NaN                    1.0               NaN                    NaN   \n",
       "4    NaN                    1.0               NaN                    NaN   \n",
       "\n",
       "   Fall foliage  Good for kids  Lakes  Mountain views  Old growth  \\\n",
       "0           NaN            1.0    1.0             1.0         NaN   \n",
       "1           NaN            1.0    1.0             NaN         NaN   \n",
       "2           NaN            1.0    NaN             1.0         NaN   \n",
       "3           NaN            1.0    NaN             NaN         NaN   \n",
       "4           NaN            1.0    NaN             1.0         NaN   \n",
       "\n",
       "   Ridges/passes              ...                 gain  highest_pt      lat  \\\n",
       "0            NaN              ...                  NaN         NaN  47.4375   \n",
       "1            NaN              ...                900.0      5475.0  47.2942   \n",
       "2            NaN              ...                400.0      4500.0  47.3357   \n",
       "3            NaN              ...               2050.0    -50000.0  47.6780   \n",
       "4            NaN              ...                100.0    -50000.0  48.7669   \n",
       "\n",
       "       long  num_reports                 permit rating rating_count  \\\n",
       "0 -122.0850         25.0                   None    3.7     7 votes    \n",
       "1 -120.3987         73.0                   None    3.9    15 votes    \n",
       "2 -120.5804         71.0       Sno-Parks Permit    4.1     9 votes    \n",
       "3 -120.7324          3.0  Northwest Forest Pass    2.5     2 votes    \n",
       "4 -122.5163          7.0                   None    3.0     3 votes    \n",
       "\n",
       "                                 region                    trail_name  \n",
       "0                         Issaquah Alps  Spring Lake/Lake Desire Park  \n",
       "1       Central Washington -- Wenatchee        Clara and Marion Lakes  \n",
       "2      Central Cascades -- Blewett Pass      Wenatchee Crest Snowshoe  \n",
       "3  Central Cascades -- Leavenworth Area  Tumwater Campground Snowshoe  \n",
       "4    North Cascades -- Mount Baker Area            Bay to Baker Trail  \n",
       "\n",
       "[5 rows x 28 columns]"
      ]
     },
     "execution_count": 4,
     "metadata": {},
     "output_type": "execute_result"
    }
   ],
   "source": [
    "merged_df2 = pd.concat([df,df6,df7,df8,df9,df10,df11])\n",
    "merged_df2.head()"
   ]
  },
  {
   "cell_type": "code",
   "execution_count": 5,
   "metadata": {
    "collapsed": true
   },
   "outputs": [
    {
     "name": "stdout",
     "output_type": "stream",
     "text": [
      "<class 'pandas.core.frame.DataFrame'>\n",
      "Int64Index: 3799 entries, 0 to 357\n",
      "Data columns (total 28 columns):\n",
      "Coast                    3799 non-null float64\n",
      "Dogs allowed on leash    3799 non-null float64\n",
      "Dogs not allowed         3799 non-null float64\n",
      "Established campsites    3799 non-null float64\n",
      "Fall foliage             3799 non-null float64\n",
      "Good for kids            3799 non-null float64\n",
      "Lakes                    3799 non-null float64\n",
      "Mountain views           3799 non-null float64\n",
      "Old growth               3799 non-null float64\n",
      "Ridges/passes            3799 non-null float64\n",
      "Rivers                   3799 non-null float64\n",
      "Summits                  3799 non-null float64\n",
      "Unnamed: 0               3799 non-null int64\n",
      "Waterfalls               3799 non-null float64\n",
      "Wildflowers/Meadows      3799 non-null float64\n",
      "Wildlife                 3799 non-null float64\n",
      "distance_how             3799 non-null object\n",
      "distance_mi              3799 non-null object\n",
      "gain                     3799 non-null float64\n",
      "highest_pt               3799 non-null float64\n",
      "lat                      3799 non-null float64\n",
      "long                     3799 non-null float64\n",
      "num_reports              3799 non-null float64\n",
      "permit                   3799 non-null object\n",
      "rating                   3799 non-null float64\n",
      "rating_count             3799 non-null object\n",
      "region                   3799 non-null object\n",
      "trail_name               3799 non-null object\n",
      "dtypes: float64(21), int64(1), object(6)\n",
      "memory usage: 860.7+ KB\n"
     ]
    }
   ],
   "source": [
    "merged_df2 = merged_df2.fillna(0)\n",
    "merged_df2.info()"
   ]
  },
  {
   "cell_type": "code",
   "execution_count": 6,
   "metadata": {},
   "outputs": [],
   "source": [
    "merged_df2.to_csv('all_wta_data_fillna0.csv')"
   ]
  },
  {
   "cell_type": "markdown",
   "metadata": {},
   "source": [
    "## Load df"
   ]
  },
  {
   "cell_type": "code",
   "execution_count": 7,
   "metadata": {},
   "outputs": [],
   "source": [
    "df = pd.read_csv('all_wta_data_fillna0.csv')"
   ]
  },
  {
   "cell_type": "code",
   "execution_count": 8,
   "metadata": {
    "collapsed": true
   },
   "outputs": [
    {
     "name": "stdout",
     "output_type": "stream",
     "text": [
      "<class 'pandas.core.frame.DataFrame'>\n",
      "RangeIndex: 3799 entries, 0 to 3798\n",
      "Data columns (total 29 columns):\n",
      "Unnamed: 0               3799 non-null int64\n",
      "Coast                    3799 non-null float64\n",
      "Dogs allowed on leash    3799 non-null float64\n",
      "Dogs not allowed         3799 non-null float64\n",
      "Established campsites    3799 non-null float64\n",
      "Fall foliage             3799 non-null float64\n",
      "Good for kids            3799 non-null float64\n",
      "Lakes                    3799 non-null float64\n",
      "Mountain views           3799 non-null float64\n",
      "Old growth               3799 non-null float64\n",
      "Ridges/passes            3799 non-null float64\n",
      "Rivers                   3799 non-null float64\n",
      "Summits                  3799 non-null float64\n",
      "Unnamed: 0.1             3799 non-null int64\n",
      "Waterfalls               3799 non-null float64\n",
      "Wildflowers/Meadows      3799 non-null float64\n",
      "Wildlife                 3799 non-null float64\n",
      "distance_how             3799 non-null object\n",
      "distance_mi              3799 non-null object\n",
      "gain                     3799 non-null float64\n",
      "highest_pt               3799 non-null float64\n",
      "lat                      3799 non-null float64\n",
      "long                     3799 non-null float64\n",
      "num_reports              3799 non-null float64\n",
      "permit                   3799 non-null object\n",
      "rating                   3799 non-null float64\n",
      "rating_count             3799 non-null object\n",
      "region                   3799 non-null object\n",
      "trail_name               3799 non-null object\n",
      "dtypes: float64(21), int64(2), object(6)\n",
      "memory usage: 860.8+ KB\n"
     ]
    }
   ],
   "source": [
    "df.info()"
   ]
  },
  {
   "cell_type": "code",
   "execution_count": 9,
   "metadata": {
    "collapsed": true
   },
   "outputs": [
    {
     "data": {
      "text/plain": [
       "Unnamed: 0               0\n",
       "Coast                    0\n",
       "Dogs allowed on leash    0\n",
       "Dogs not allowed         0\n",
       "Established campsites    0\n",
       "Fall foliage             0\n",
       "Good for kids            0\n",
       "Lakes                    0\n",
       "Mountain views           0\n",
       "Old growth               0\n",
       "Ridges/passes            0\n",
       "Rivers                   0\n",
       "Summits                  0\n",
       "Unnamed: 0.1             0\n",
       "Waterfalls               0\n",
       "Wildflowers/Meadows      0\n",
       "Wildlife                 0\n",
       "distance_how             0\n",
       "distance_mi              0\n",
       "gain                     0\n",
       "highest_pt               0\n",
       "lat                      0\n",
       "long                     0\n",
       "num_reports              0\n",
       "permit                   0\n",
       "rating                   0\n",
       "rating_count             0\n",
       "region                   0\n",
       "trail_name               0\n",
       "dtype: int64"
      ]
     },
     "execution_count": 9,
     "metadata": {},
     "output_type": "execute_result"
    }
   ],
   "source": [
    "null_counts = df.isnull().sum()\n",
    "null_counts"
   ]
  },
  {
   "cell_type": "code",
   "execution_count": 10,
   "metadata": {
    "scrolled": true
   },
   "outputs": [
    {
     "data": {
      "text/plain": [
       "0                    0\n",
       "1            Wenatchee\n",
       "2         Blewett Pass\n",
       "3     Leavenworth Area\n",
       "4     Mount Baker Area\n",
       "Name: subregion, dtype: object"
      ]
     },
     "execution_count": 10,
     "metadata": {},
     "output_type": "execute_result"
    }
   ],
   "source": [
    "df['subregion']= df['region']\n",
    "df['subregion'] = df['region'].apply(lambda x: x.split(\"--\"))\n",
    "df['subregion'] = df['subregion'].apply(lambda x: x[1] if len(x)>1 else 0)\n",
    "df['subregion'].head()"
   ]
  },
  {
   "cell_type": "code",
   "execution_count": 11,
   "metadata": {},
   "outputs": [
    {
     "data": {
      "text/plain": [
       "0          Issaquah Alps\n",
       "1    Central Washington \n",
       "2      Central Cascades \n",
       "3      Central Cascades \n",
       "4        North Cascades \n",
       "Name: region, dtype: object"
      ]
     },
     "execution_count": 11,
     "metadata": {},
     "output_type": "execute_result"
    }
   ],
   "source": [
    "df['region'] = df['region'].apply(lambda x: x.split(\"--\"))\n",
    "df['region'] = df['region'].apply(lambda x: x[0] if len(x) >= 1 else 0)\n",
    "df['region'].head()"
   ]
  },
  {
   "cell_type": "code",
   "execution_count": 12,
   "metadata": {},
   "outputs": [
    {
     "data": {
      "text/plain": [
       "0    3.0\n",
       "1    3.2\n",
       "2    6.0\n",
       "3    0.0\n",
       "4    3.0\n",
       "Name: distance_mi, dtype: float64"
      ]
     },
     "execution_count": 12,
     "metadata": {},
     "output_type": "execute_result"
    }
   ],
   "source": [
    "df['distance_mi'] = df['distance_mi'].apply(lambda x: str(x)[:4])\n",
    "df['distance_mi'] = pd.to_numeric(df['distance_mi'])\n",
    "df['distance_mi'].head(5)"
   ]
  },
  {
   "cell_type": "code",
   "execution_count": 13,
   "metadata": {},
   "outputs": [
    {
     "data": {
      "text/plain": [
       "3508"
      ]
     },
     "execution_count": 13,
     "metadata": {},
     "output_type": "execute_result"
    }
   ],
   "source": [
    "##Intriguing, there are some repeated trail names \n",
    "df['trail_name'] =df['trail_name'].str.strip()\n",
    "df['trail_name'].nunique()"
   ]
  },
  {
   "cell_type": "code",
   "execution_count": 14,
   "metadata": {},
   "outputs": [
    {
     "data": {
      "text/plain": [
       "array(['roundtrip', '0', 'one-way', '10.0 miles of trails',\n",
       "       '2.2 miles of trails', '12.0 miles of trails',\n",
       "       '19.0 miles of trails', '23.0 miles of trails',\n",
       "       '3.0 miles of trails', '2.5 miles of trails',\n",
       "       '0.5 miles of trails', '1.5 miles of trails',\n",
       "       '2.0 miles of trails', '5.0 miles of trails',\n",
       "       '8.0 miles of trails', '4.0 miles of trails',\n",
       "       '8.7 miles of trails', '6.5 miles of trails',\n",
       "       '6.0 miles of trails', '7.0 miles of trails',\n",
       "       '30.0 miles of trails', '4.85 miles of trails',\n",
       "       '1.9 miles of trails', '35.0 miles of trails',\n",
       "       '1.2 miles of trails', '2.8 miles of trails',\n",
       "       '1.0 miles of trails', '9.0 miles of trails',\n",
       "       '3.5 miles of trails', '4.75 miles of trails',\n",
       "       '20.0 miles of trails', '13.0 miles of trails',\n",
       "       '25.0 miles of trails', '3.3 miles of trails',\n",
       "       '5.7 miles of trails', '1.4 miles of trails',\n",
       "       '0.66 miles of trails', '1.8 miles of trails',\n",
       "       '15.0 miles of trails', '2.7 miles of trails'], dtype=object)"
      ]
     },
     "execution_count": 14,
     "metadata": {},
     "output_type": "execute_result"
    }
   ],
   "source": [
    "df['distance_how'] = df['distance_how'].str.strip()\n",
    "df['distance_how'].unique()"
   ]
  },
  {
   "cell_type": "code",
   "execution_count": 15,
   "metadata": {},
   "outputs": [
    {
     "data": {
      "text/plain": [
       "0     7\n",
       "1    15\n",
       "2     9\n",
       "3     2\n",
       "4     3\n",
       "Name: rating_count, dtype: int64"
      ]
     },
     "execution_count": 15,
     "metadata": {},
     "output_type": "execute_result"
    }
   ],
   "source": [
    "df['rating_count'] = df['rating_count'].apply(lambda x: str(x).split(' ')[0])\n",
    "df['rating_count'] = pd.to_numeric(df['rating_count'])\n",
    "df['rating_count'].head()"
   ]
  },
  {
   "cell_type": "code",
   "execution_count": 16,
   "metadata": {},
   "outputs": [
    {
     "data": {
      "text/plain": [
       "0    3.7\n",
       "1    3.9\n",
       "2    4.1\n",
       "3    2.5\n",
       "4    3.0\n",
       "Name: rating, dtype: float64"
      ]
     },
     "execution_count": 16,
     "metadata": {},
     "output_type": "execute_result"
    }
   ],
   "source": [
    "df['rating'] = pd.to_numeric(df['rating'])\n",
    "df['rating'].head()"
   ]
  },
  {
   "cell_type": "code",
   "execution_count": 17,
   "metadata": {},
   "outputs": [
    {
     "data": {
      "text/plain": [
       "array(['None', 'Sno-Parks Permit', 'Northwest Forest Pass',\n",
       "       'Discover Pass', 'National Park Pass', 'Refuge Entrance Pass',\n",
       "       'National Monument Fee', 'Discover Pass, Refuge Entrance Pass',\n",
       "       'National Park Pass, Northwest Forest Pass',\n",
       "       'Oregon State Parks Day-Use', 'None, Northwest Forest Pass',\n",
       "       'National Monument Fee, Sno-Parks Permit',\n",
       "       'Discover Pass, Sno-Parks Permit',\n",
       "       'Northwest Forest Pass, Sno-Parks Permit'], dtype=object)"
      ]
     },
     "execution_count": 17,
     "metadata": {},
     "output_type": "execute_result"
    }
   ],
   "source": [
    "# permit\n",
    "df['permit'] = df['permit'].str.strip()\n",
    "df['permit']=df['permit'].apply(lambda x: str(x).replace('0','None'))\n",
    "df['permit'].unique()"
   ]
  },
  {
   "cell_type": "code",
   "execution_count": 18,
   "metadata": {},
   "outputs": [
    {
     "name": "stdout",
     "output_type": "stream",
     "text": [
      "<class 'pandas.core.frame.DataFrame'>\n",
      "RangeIndex: 3799 entries, 0 to 3798\n",
      "Data columns (total 30 columns):\n",
      "Unnamed: 0               3799 non-null int64\n",
      "Coast                    3799 non-null float64\n",
      "Dogs allowed on leash    3799 non-null float64\n",
      "Dogs not allowed         3799 non-null float64\n",
      "Established campsites    3799 non-null float64\n",
      "Fall foliage             3799 non-null float64\n",
      "Good for kids            3799 non-null float64\n",
      "Lakes                    3799 non-null float64\n",
      "Mountain views           3799 non-null float64\n",
      "Old growth               3799 non-null float64\n",
      "Ridges/passes            3799 non-null float64\n",
      "Rivers                   3799 non-null float64\n",
      "Summits                  3799 non-null float64\n",
      "Unnamed: 0.1             3799 non-null int64\n",
      "Waterfalls               3799 non-null float64\n",
      "Wildflowers/Meadows      3799 non-null float64\n",
      "Wildlife                 3799 non-null float64\n",
      "distance_how             3799 non-null object\n",
      "distance_mi              3799 non-null float64\n",
      "gain                     3799 non-null float64\n",
      "highest_pt               3799 non-null float64\n",
      "lat                      3799 non-null float64\n",
      "long                     3799 non-null float64\n",
      "num_reports              3799 non-null float64\n",
      "permit                   3799 non-null object\n",
      "rating                   3799 non-null float64\n",
      "rating_count             3799 non-null int64\n",
      "region                   3799 non-null object\n",
      "trail_name               3799 non-null object\n",
      "subregion                3799 non-null object\n",
      "dtypes: float64(22), int64(3), object(5)\n",
      "memory usage: 890.5+ KB\n"
     ]
    }
   ],
   "source": [
    "df.info()"
   ]
  },
  {
   "cell_type": "code",
   "execution_count": 19,
   "metadata": {},
   "outputs": [],
   "source": [
    "df.drop(columns=['Unnamed: 0', 'Unnamed: 0.1'],axis=1,inplace=True)"
   ]
  },
  {
   "cell_type": "code",
   "execution_count": 20,
   "metadata": {},
   "outputs": [],
   "source": [
    "# Save file\n",
    "df.to_csv('new_wta_trail_info_cleaned_all_data.csv')"
   ]
  },
  {
   "cell_type": "code",
   "execution_count": 22,
   "metadata": {
    "scrolled": true
   },
   "outputs": [
    {
     "name": "stdout",
     "output_type": "stream",
     "text": [
      "<class 'pandas.core.frame.DataFrame'>\n",
      "RangeIndex: 3799 entries, 0 to 3798\n",
      "Data columns (total 29 columns):\n",
      "Unnamed: 0               3799 non-null int64\n",
      "Coast                    3799 non-null float64\n",
      "Dogs allowed on leash    3799 non-null float64\n",
      "Dogs not allowed         3799 non-null float64\n",
      "Established campsites    3799 non-null float64\n",
      "Fall foliage             3799 non-null float64\n",
      "Good for kids            3799 non-null float64\n",
      "Lakes                    3799 non-null float64\n",
      "Mountain views           3799 non-null float64\n",
      "Old growth               3799 non-null float64\n",
      "Ridges/passes            3799 non-null float64\n",
      "Rivers                   3799 non-null float64\n",
      "Summits                  3799 non-null float64\n",
      "Waterfalls               3799 non-null float64\n",
      "Wildflowers/Meadows      3799 non-null float64\n",
      "Wildlife                 3799 non-null float64\n",
      "distance_how             3799 non-null object\n",
      "distance_mi              3799 non-null float64\n",
      "gain                     3799 non-null float64\n",
      "highest_pt               3799 non-null float64\n",
      "lat                      3799 non-null float64\n",
      "long                     3799 non-null float64\n",
      "num_reports              3799 non-null float64\n",
      "permit                   3799 non-null object\n",
      "rating                   3799 non-null float64\n",
      "rating_count             3799 non-null int64\n",
      "region                   3799 non-null object\n",
      "trail_name               3799 non-null object\n",
      "subregion                3799 non-null object\n",
      "dtypes: float64(22), int64(2), object(5)\n",
      "memory usage: 860.8+ KB\n"
     ]
    }
   ],
   "source": [
    "df = pd.read_csv('new_wta_trail_info_cleaned_all_data.csv')\n",
    "df.info()"
   ]
  },
  {
   "cell_type": "markdown",
   "metadata": {},
   "source": [
    "## Dummy variables"
   ]
  },
  {
   "cell_type": "code",
   "execution_count": 23,
   "metadata": {},
   "outputs": [
    {
     "data": {
      "text/plain": [
       "array(['Issaquah Alps', 'Central Washington', 'Central Cascades',\n",
       "       'North Cascades', 'Snoqualmie Region', 'Southwest Washington',\n",
       "       'South Cascades', 'Olympic Peninsula', 'Puget Sound and Islands',\n",
       "       'Eastern Washington', 'Mount Rainier Area', '0'], dtype=object)"
      ]
     },
     "execution_count": 23,
     "metadata": {},
     "output_type": "execute_result"
    }
   ],
   "source": [
    "df['region'] = df['region'].str.strip()\n",
    "df['region'].unique()"
   ]
  },
  {
   "cell_type": "code",
   "execution_count": 24,
   "metadata": {},
   "outputs": [
    {
     "data": {
      "text/html": [
       "<div>\n",
       "<style scoped>\n",
       "    .dataframe tbody tr th:only-of-type {\n",
       "        vertical-align: middle;\n",
       "    }\n",
       "\n",
       "    .dataframe tbody tr th {\n",
       "        vertical-align: top;\n",
       "    }\n",
       "\n",
       "    .dataframe thead th {\n",
       "        text-align: right;\n",
       "    }\n",
       "</style>\n",
       "<table border=\"1\" class=\"dataframe\">\n",
       "  <thead>\n",
       "    <tr style=\"text-align: right;\">\n",
       "      <th></th>\n",
       "      <th>Central Cascades</th>\n",
       "      <th>Central Washington</th>\n",
       "      <th>Eastern Washington</th>\n",
       "      <th>Issaquah Alps</th>\n",
       "      <th>Mount Rainier Area</th>\n",
       "      <th>North Cascades</th>\n",
       "      <th>Olympic Peninsula</th>\n",
       "      <th>Puget Sound and Islands</th>\n",
       "      <th>Snoqualmie Region</th>\n",
       "      <th>South Cascades</th>\n",
       "      <th>Southwest Washington</th>\n",
       "    </tr>\n",
       "  </thead>\n",
       "  <tbody>\n",
       "    <tr>\n",
       "      <th>0</th>\n",
       "      <td>0</td>\n",
       "      <td>0</td>\n",
       "      <td>0</td>\n",
       "      <td>1</td>\n",
       "      <td>0</td>\n",
       "      <td>0</td>\n",
       "      <td>0</td>\n",
       "      <td>0</td>\n",
       "      <td>0</td>\n",
       "      <td>0</td>\n",
       "      <td>0</td>\n",
       "    </tr>\n",
       "    <tr>\n",
       "      <th>1</th>\n",
       "      <td>0</td>\n",
       "      <td>1</td>\n",
       "      <td>0</td>\n",
       "      <td>0</td>\n",
       "      <td>0</td>\n",
       "      <td>0</td>\n",
       "      <td>0</td>\n",
       "      <td>0</td>\n",
       "      <td>0</td>\n",
       "      <td>0</td>\n",
       "      <td>0</td>\n",
       "    </tr>\n",
       "    <tr>\n",
       "      <th>2</th>\n",
       "      <td>1</td>\n",
       "      <td>0</td>\n",
       "      <td>0</td>\n",
       "      <td>0</td>\n",
       "      <td>0</td>\n",
       "      <td>0</td>\n",
       "      <td>0</td>\n",
       "      <td>0</td>\n",
       "      <td>0</td>\n",
       "      <td>0</td>\n",
       "      <td>0</td>\n",
       "    </tr>\n",
       "    <tr>\n",
       "      <th>3</th>\n",
       "      <td>1</td>\n",
       "      <td>0</td>\n",
       "      <td>0</td>\n",
       "      <td>0</td>\n",
       "      <td>0</td>\n",
       "      <td>0</td>\n",
       "      <td>0</td>\n",
       "      <td>0</td>\n",
       "      <td>0</td>\n",
       "      <td>0</td>\n",
       "      <td>0</td>\n",
       "    </tr>\n",
       "    <tr>\n",
       "      <th>4</th>\n",
       "      <td>0</td>\n",
       "      <td>0</td>\n",
       "      <td>0</td>\n",
       "      <td>0</td>\n",
       "      <td>0</td>\n",
       "      <td>1</td>\n",
       "      <td>0</td>\n",
       "      <td>0</td>\n",
       "      <td>0</td>\n",
       "      <td>0</td>\n",
       "      <td>0</td>\n",
       "    </tr>\n",
       "  </tbody>\n",
       "</table>\n",
       "</div>"
      ],
      "text/plain": [
       "   Central Cascades  Central Washington  Eastern Washington  Issaquah Alps  \\\n",
       "0                 0                   0                   0              1   \n",
       "1                 0                   1                   0              0   \n",
       "2                 1                   0                   0              0   \n",
       "3                 1                   0                   0              0   \n",
       "4                 0                   0                   0              0   \n",
       "\n",
       "   Mount Rainier Area  North Cascades  Olympic Peninsula  \\\n",
       "0                   0               0                  0   \n",
       "1                   0               0                  0   \n",
       "2                   0               0                  0   \n",
       "3                   0               0                  0   \n",
       "4                   0               1                  0   \n",
       "\n",
       "   Puget Sound and Islands  Snoqualmie Region  South Cascades  \\\n",
       "0                        0                  0               0   \n",
       "1                        0                  0               0   \n",
       "2                        0                  0               0   \n",
       "3                        0                  0               0   \n",
       "4                        0                  0               0   \n",
       "\n",
       "   Southwest Washington  \n",
       "0                     0  \n",
       "1                     0  \n",
       "2                     0  \n",
       "3                     0  \n",
       "4                     0  "
      ]
     },
     "execution_count": 24,
     "metadata": {},
     "output_type": "execute_result"
    }
   ],
   "source": [
    "# region \n",
    "df2 = pd.get_dummies(df['region'],drop_first=True)\n",
    "df2.head()"
   ]
  },
  {
   "cell_type": "code",
   "execution_count": 25,
   "metadata": {},
   "outputs": [
    {
     "data": {
      "text/html": [
       "<div>\n",
       "<style scoped>\n",
       "    .dataframe tbody tr th:only-of-type {\n",
       "        vertical-align: middle;\n",
       "    }\n",
       "\n",
       "    .dataframe tbody tr th {\n",
       "        vertical-align: top;\n",
       "    }\n",
       "\n",
       "    .dataframe thead th {\n",
       "        text-align: right;\n",
       "    }\n",
       "</style>\n",
       "<table border=\"1\" class=\"dataframe\">\n",
       "  <thead>\n",
       "    <tr style=\"text-align: right;\">\n",
       "      <th></th>\n",
       "      <th>Discover Pass, Refuge Entrance Pass</th>\n",
       "      <th>Discover Pass, Sno-Parks Permit</th>\n",
       "      <th>National Monument Fee</th>\n",
       "      <th>National Monument Fee, Sno-Parks Permit</th>\n",
       "      <th>National Park Pass</th>\n",
       "      <th>National Park Pass, Northwest Forest Pass</th>\n",
       "      <th>None</th>\n",
       "      <th>None, Northwest Forest Pass</th>\n",
       "      <th>Northwest Forest Pass</th>\n",
       "      <th>Northwest Forest Pass, Sno-Parks Permit</th>\n",
       "      <th>Oregon State Parks Day-Use</th>\n",
       "      <th>Refuge Entrance Pass</th>\n",
       "      <th>Sno-Parks Permit</th>\n",
       "    </tr>\n",
       "  </thead>\n",
       "  <tbody>\n",
       "    <tr>\n",
       "      <th>0</th>\n",
       "      <td>0</td>\n",
       "      <td>0</td>\n",
       "      <td>0</td>\n",
       "      <td>0</td>\n",
       "      <td>0</td>\n",
       "      <td>0</td>\n",
       "      <td>1</td>\n",
       "      <td>0</td>\n",
       "      <td>0</td>\n",
       "      <td>0</td>\n",
       "      <td>0</td>\n",
       "      <td>0</td>\n",
       "      <td>0</td>\n",
       "    </tr>\n",
       "    <tr>\n",
       "      <th>1</th>\n",
       "      <td>0</td>\n",
       "      <td>0</td>\n",
       "      <td>0</td>\n",
       "      <td>0</td>\n",
       "      <td>0</td>\n",
       "      <td>0</td>\n",
       "      <td>1</td>\n",
       "      <td>0</td>\n",
       "      <td>0</td>\n",
       "      <td>0</td>\n",
       "      <td>0</td>\n",
       "      <td>0</td>\n",
       "      <td>0</td>\n",
       "    </tr>\n",
       "    <tr>\n",
       "      <th>2</th>\n",
       "      <td>0</td>\n",
       "      <td>0</td>\n",
       "      <td>0</td>\n",
       "      <td>0</td>\n",
       "      <td>0</td>\n",
       "      <td>0</td>\n",
       "      <td>0</td>\n",
       "      <td>0</td>\n",
       "      <td>0</td>\n",
       "      <td>0</td>\n",
       "      <td>0</td>\n",
       "      <td>0</td>\n",
       "      <td>1</td>\n",
       "    </tr>\n",
       "    <tr>\n",
       "      <th>3</th>\n",
       "      <td>0</td>\n",
       "      <td>0</td>\n",
       "      <td>0</td>\n",
       "      <td>0</td>\n",
       "      <td>0</td>\n",
       "      <td>0</td>\n",
       "      <td>0</td>\n",
       "      <td>0</td>\n",
       "      <td>1</td>\n",
       "      <td>0</td>\n",
       "      <td>0</td>\n",
       "      <td>0</td>\n",
       "      <td>0</td>\n",
       "    </tr>\n",
       "    <tr>\n",
       "      <th>4</th>\n",
       "      <td>0</td>\n",
       "      <td>0</td>\n",
       "      <td>0</td>\n",
       "      <td>0</td>\n",
       "      <td>0</td>\n",
       "      <td>0</td>\n",
       "      <td>1</td>\n",
       "      <td>0</td>\n",
       "      <td>0</td>\n",
       "      <td>0</td>\n",
       "      <td>0</td>\n",
       "      <td>0</td>\n",
       "      <td>0</td>\n",
       "    </tr>\n",
       "  </tbody>\n",
       "</table>\n",
       "</div>"
      ],
      "text/plain": [
       "   Discover Pass, Refuge Entrance Pass  Discover Pass, Sno-Parks Permit  \\\n",
       "0                                    0                                0   \n",
       "1                                    0                                0   \n",
       "2                                    0                                0   \n",
       "3                                    0                                0   \n",
       "4                                    0                                0   \n",
       "\n",
       "   National Monument Fee  National Monument Fee, Sno-Parks Permit  \\\n",
       "0                      0                                        0   \n",
       "1                      0                                        0   \n",
       "2                      0                                        0   \n",
       "3                      0                                        0   \n",
       "4                      0                                        0   \n",
       "\n",
       "   National Park Pass  National Park Pass, Northwest Forest Pass  None  \\\n",
       "0                   0                                          0     1   \n",
       "1                   0                                          0     1   \n",
       "2                   0                                          0     0   \n",
       "3                   0                                          0     0   \n",
       "4                   0                                          0     1   \n",
       "\n",
       "   None, Northwest Forest Pass  Northwest Forest Pass  \\\n",
       "0                            0                      0   \n",
       "1                            0                      0   \n",
       "2                            0                      0   \n",
       "3                            0                      1   \n",
       "4                            0                      0   \n",
       "\n",
       "   Northwest Forest Pass, Sno-Parks Permit  Oregon State Parks Day-Use  \\\n",
       "0                                        0                           0   \n",
       "1                                        0                           0   \n",
       "2                                        0                           0   \n",
       "3                                        0                           0   \n",
       "4                                        0                           0   \n",
       "\n",
       "   Refuge Entrance Pass  Sno-Parks Permit  \n",
       "0                     0                 0  \n",
       "1                     0                 0  \n",
       "2                     0                 1  \n",
       "3                     0                 0  \n",
       "4                     0                 0  "
      ]
     },
     "execution_count": 25,
     "metadata": {},
     "output_type": "execute_result"
    }
   ],
   "source": [
    "# permit\n",
    "df['permit'] = df['permit'].str.strip()\n",
    "df3 = pd.get_dummies(df['permit'],drop_first=True)\n",
    "df3.head()"
   ]
  },
  {
   "cell_type": "code",
   "execution_count": 26,
   "metadata": {
    "collapsed": true
   },
   "outputs": [
    {
     "name": "stdout",
     "output_type": "stream",
     "text": [
      "<class 'pandas.core.frame.DataFrame'>\n",
      "RangeIndex: 3799 entries, 0 to 3798\n",
      "Data columns (total 13 columns):\n",
      "Discover Pass, Refuge Entrance Pass          3799 non-null uint8\n",
      "Discover Pass, Sno-Parks Permit              3799 non-null uint8\n",
      "National Monument Fee                        3799 non-null uint8\n",
      "National Monument Fee, Sno-Parks Permit      3799 non-null uint8\n",
      "National Park Pass                           3799 non-null uint8\n",
      "National Park Pass, Northwest Forest Pass    3799 non-null uint8\n",
      "None                                         3799 non-null uint8\n",
      "None, Northwest Forest Pass                  3799 non-null uint8\n",
      "Northwest Forest Pass                        3799 non-null uint8\n",
      "Northwest Forest Pass, Sno-Parks Permit      3799 non-null uint8\n",
      "Oregon State Parks Day-Use                   3799 non-null uint8\n",
      "Refuge Entrance Pass                         3799 non-null uint8\n",
      "Sno-Parks Permit                             3799 non-null uint8\n",
      "dtypes: uint8(13)\n",
      "memory usage: 48.3 KB\n"
     ]
    }
   ],
   "source": [
    "df3.info()"
   ]
  },
  {
   "cell_type": "code",
   "execution_count": 27,
   "metadata": {
    "collapsed": true
   },
   "outputs": [
    {
     "name": "stdout",
     "output_type": "stream",
     "text": [
      "<class 'pandas.core.frame.DataFrame'>\n",
      "RangeIndex: 3799 entries, 0 to 3798\n",
      "Data columns (total 53 columns):\n",
      "Unnamed: 0                                   3799 non-null int64\n",
      "Coast                                        3799 non-null float64\n",
      "Dogs allowed on leash                        3799 non-null float64\n",
      "Dogs not allowed                             3799 non-null float64\n",
      "Established campsites                        3799 non-null float64\n",
      "Fall foliage                                 3799 non-null float64\n",
      "Good for kids                                3799 non-null float64\n",
      "Lakes                                        3799 non-null float64\n",
      "Mountain views                               3799 non-null float64\n",
      "Old growth                                   3799 non-null float64\n",
      "Ridges/passes                                3799 non-null float64\n",
      "Rivers                                       3799 non-null float64\n",
      "Summits                                      3799 non-null float64\n",
      "Waterfalls                                   3799 non-null float64\n",
      "Wildflowers/Meadows                          3799 non-null float64\n",
      "Wildlife                                     3799 non-null float64\n",
      "distance_how                                 3799 non-null object\n",
      "distance_mi                                  3799 non-null float64\n",
      "gain                                         3799 non-null float64\n",
      "highest_pt                                   3799 non-null float64\n",
      "lat                                          3799 non-null float64\n",
      "long                                         3799 non-null float64\n",
      "num_reports                                  3799 non-null float64\n",
      "permit                                       3799 non-null object\n",
      "rating                                       3799 non-null float64\n",
      "rating_count                                 3799 non-null int64\n",
      "region                                       3799 non-null object\n",
      "trail_name                                   3799 non-null object\n",
      "subregion                                    3799 non-null object\n",
      "Central Cascades                             3799 non-null uint8\n",
      "Central Washington                           3799 non-null uint8\n",
      "Eastern Washington                           3799 non-null uint8\n",
      "Issaquah Alps                                3799 non-null uint8\n",
      "Mount Rainier Area                           3799 non-null uint8\n",
      "North Cascades                               3799 non-null uint8\n",
      "Olympic Peninsula                            3799 non-null uint8\n",
      "Puget Sound and Islands                      3799 non-null uint8\n",
      "Snoqualmie Region                            3799 non-null uint8\n",
      "South Cascades                               3799 non-null uint8\n",
      "Southwest Washington                         3799 non-null uint8\n",
      "Discover Pass, Refuge Entrance Pass          3799 non-null uint8\n",
      "Discover Pass, Sno-Parks Permit              3799 non-null uint8\n",
      "National Monument Fee                        3799 non-null uint8\n",
      "National Monument Fee, Sno-Parks Permit      3799 non-null uint8\n",
      "National Park Pass                           3799 non-null uint8\n",
      "National Park Pass, Northwest Forest Pass    3799 non-null uint8\n",
      "None                                         3799 non-null uint8\n",
      "None, Northwest Forest Pass                  3799 non-null uint8\n",
      "Northwest Forest Pass                        3799 non-null uint8\n",
      "Northwest Forest Pass, Sno-Parks Permit      3799 non-null uint8\n",
      "Oregon State Parks Day-Use                   3799 non-null uint8\n",
      "Refuge Entrance Pass                         3799 non-null uint8\n",
      "Sno-Parks Permit                             3799 non-null uint8\n",
      "dtypes: float64(22), int64(2), object(5), uint8(24)\n",
      "memory usage: 949.8+ KB\n"
     ]
    }
   ],
   "source": [
    "master_df = pd.concat([df,df2,df3],axis=1)\n",
    "master_df.info()"
   ]
  },
  {
   "cell_type": "code",
   "execution_count": 29,
   "metadata": {},
   "outputs": [
    {
     "data": {
      "text/plain": [
       "0    5.0\n",
       "1    4.0\n",
       "2    2.0\n",
       "3    3.0\n",
       "4    6.0\n",
       "Name: num_features, dtype: float64"
      ]
     },
     "execution_count": 29,
     "metadata": {},
     "output_type": "execute_result"
    }
   ],
   "source": [
    "master_df['num_features']= (df['Coast'] + df['Dogs allowed on leash'] + \n",
    "                     df['Dogs not allowed'] + df['Established campsites'] + \n",
    "                     df['Fall foliage'] + df['Good for kids'] + df['Lakes']+ \n",
    "                     df['Mountain views'] + df['Old growth'] + df['Ridges/passes']+ \n",
    "                     df['Rivers'] + df['Summits']+ df['Waterfalls']+ \n",
    "                     df['Wildflowers/Meadows'] + df['Wildlife'])\n",
    "master_df['num_features'].head()"
   ]
  },
  {
   "cell_type": "code",
   "execution_count": 30,
   "metadata": {
    "collapsed": true
   },
   "outputs": [
    {
     "name": "stdout",
     "output_type": "stream",
     "text": [
      "<class 'pandas.core.frame.DataFrame'>\n",
      "RangeIndex: 3799 entries, 0 to 3798\n",
      "Data columns (total 54 columns):\n",
      "Unnamed: 0                                   3799 non-null int64\n",
      "Coast                                        3799 non-null float64\n",
      "Dogs allowed on leash                        3799 non-null float64\n",
      "Dogs not allowed                             3799 non-null float64\n",
      "Established campsites                        3799 non-null float64\n",
      "Fall foliage                                 3799 non-null float64\n",
      "Good for kids                                3799 non-null float64\n",
      "Lakes                                        3799 non-null float64\n",
      "Mountain views                               3799 non-null float64\n",
      "Old growth                                   3799 non-null float64\n",
      "Ridges/passes                                3799 non-null float64\n",
      "Rivers                                       3799 non-null float64\n",
      "Summits                                      3799 non-null float64\n",
      "Waterfalls                                   3799 non-null float64\n",
      "Wildflowers/Meadows                          3799 non-null float64\n",
      "Wildlife                                     3799 non-null float64\n",
      "distance_how                                 3799 non-null object\n",
      "distance_mi                                  3799 non-null float64\n",
      "gain                                         3799 non-null float64\n",
      "highest_pt                                   3799 non-null float64\n",
      "lat                                          3799 non-null float64\n",
      "long                                         3799 non-null float64\n",
      "num_reports                                  3799 non-null float64\n",
      "permit                                       3799 non-null object\n",
      "rating                                       3799 non-null float64\n",
      "rating_count                                 3799 non-null int64\n",
      "region                                       3799 non-null object\n",
      "trail_name                                   3799 non-null object\n",
      "subregion                                    3799 non-null object\n",
      "Central Cascades                             3799 non-null uint8\n",
      "Central Washington                           3799 non-null uint8\n",
      "Eastern Washington                           3799 non-null uint8\n",
      "Issaquah Alps                                3799 non-null uint8\n",
      "Mount Rainier Area                           3799 non-null uint8\n",
      "North Cascades                               3799 non-null uint8\n",
      "Olympic Peninsula                            3799 non-null uint8\n",
      "Puget Sound and Islands                      3799 non-null uint8\n",
      "Snoqualmie Region                            3799 non-null uint8\n",
      "South Cascades                               3799 non-null uint8\n",
      "Southwest Washington                         3799 non-null uint8\n",
      "Discover Pass, Refuge Entrance Pass          3799 non-null uint8\n",
      "Discover Pass, Sno-Parks Permit              3799 non-null uint8\n",
      "National Monument Fee                        3799 non-null uint8\n",
      "National Monument Fee, Sno-Parks Permit      3799 non-null uint8\n",
      "National Park Pass                           3799 non-null uint8\n",
      "National Park Pass, Northwest Forest Pass    3799 non-null uint8\n",
      "None                                         3799 non-null uint8\n",
      "None, Northwest Forest Pass                  3799 non-null uint8\n",
      "Northwest Forest Pass                        3799 non-null uint8\n",
      "Northwest Forest Pass, Sno-Parks Permit      3799 non-null uint8\n",
      "Oregon State Parks Day-Use                   3799 non-null uint8\n",
      "Refuge Entrance Pass                         3799 non-null uint8\n",
      "Sno-Parks Permit                             3799 non-null uint8\n",
      "num_features                                 3799 non-null float64\n",
      "dtypes: float64(23), int64(2), object(5), uint8(24)\n",
      "memory usage: 979.5+ KB\n"
     ]
    }
   ],
   "source": [
    "master_df.to_csv('all_wta_trail_info_engineered.csv')\n",
    "master_df.info()"
   ]
  },
  {
   "cell_type": "markdown",
   "metadata": {},
   "source": [
    "# Pickle"
   ]
  },
  {
   "cell_type": "code",
   "execution_count": 31,
   "metadata": {},
   "outputs": [],
   "source": [
    "with open('all_trails_engineered.pickle', 'wb') as to_write:\n",
    "    pickle.dump(master_df, to_write)"
   ]
  }
 ],
 "metadata": {
  "kernelspec": {
   "display_name": "Python 3",
   "language": "python",
   "name": "python3"
  },
  "language_info": {
   "codemirror_mode": {
    "name": "ipython",
    "version": 3
   },
   "file_extension": ".py",
   "mimetype": "text/x-python",
   "name": "python",
   "nbconvert_exporter": "python",
   "pygments_lexer": "ipython3",
   "version": "3.7.1"
  }
 },
 "nbformat": 4,
 "nbformat_minor": 2
}
